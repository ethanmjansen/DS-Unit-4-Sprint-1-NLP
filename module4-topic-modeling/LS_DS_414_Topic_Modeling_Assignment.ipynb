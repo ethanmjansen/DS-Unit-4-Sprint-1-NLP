{
 "cells": [
  {
   "cell_type": "markdown",
   "metadata": {},
   "source": [
    "<img align=\"left\" src=\"https://lever-client-logos.s3.amazonaws.com/864372b1-534c-480e-acd5-9711f850815c-1524247202159.png\" width=200>\n",
    "<br></br>\n",
    "<br></br>\n",
    "\n",
    "# Topic Modeling\n",
    "## *Data Science Unit 4 Sprint 1 Assignment 4*\n",
    "\n",
    "Analyze a corpus of Amazon reviews from Unit 4 Sprint 1 Module 1's lecture using topic modeling: \n",
    "\n",
    "- Fit a Gensim LDA topic model on Amazon Reviews\n",
    "- Select appropriate number of topics\n",
    "- Create some dope visualization of the topics\n",
    "- Write a few bullets on your findings in markdown at the end\n",
    "- **Note**: You don't *have* to use generators for this assignment"
   ]
  },
  {
   "cell_type": "code",
   "execution_count": 1,
   "metadata": {},
   "outputs": [
    {
     "name": "stderr",
     "output_type": "stream",
     "text": [
      "C:\\Users\\ethan\\Anaconda3\\envs\\U4-S1-NLP\\lib\\site-packages\\gensim\\utils.py:1197: UserWarning: detected Windows; aliasing chunkize to chunkize_serial\n",
      "  warnings.warn(\"detected Windows; aliasing chunkize to chunkize_serial\")\n"
     ]
    }
   ],
   "source": [
    "# Imports from today's lecture\n",
    "import numpy as np\n",
    "import gensim\n",
    "import os\n",
    "import re\n",
    "import spacy\n",
    "\n",
    "from gensim.utils import simple_preprocess\n",
    "from gensim.parsing.preprocessing import STOPWORDS\n",
    "from gensim import corpora\n",
    "\n",
    "from gensim.models.ldamulticore import LdaMulticore\n",
    "\n",
    "import pandas as pd"
   ]
  },
  {
   "cell_type": "markdown",
   "metadata": {},
   "source": [
    "### Amazon Data"
   ]
  },
  {
   "cell_type": "code",
   "execution_count": 2,
   "metadata": {},
   "outputs": [],
   "source": [
    "path = '../module1-text-data/data/Datafiniti_Amazon_Consumer_Reviews_of_Amazon_Products_May19.csv'"
   ]
  },
  {
   "cell_type": "code",
   "execution_count": 3,
   "metadata": {},
   "outputs": [
    {
     "data": {
      "text/html": [
       "<div>\n",
       "<style scoped>\n",
       "    .dataframe tbody tr th:only-of-type {\n",
       "        vertical-align: middle;\n",
       "    }\n",
       "\n",
       "    .dataframe tbody tr th {\n",
       "        vertical-align: top;\n",
       "    }\n",
       "\n",
       "    .dataframe thead th {\n",
       "        text-align: right;\n",
       "    }\n",
       "</style>\n",
       "<table border=\"1\" class=\"dataframe\">\n",
       "  <thead>\n",
       "    <tr style=\"text-align: right;\">\n",
       "      <th></th>\n",
       "      <th>id</th>\n",
       "      <th>dateAdded</th>\n",
       "      <th>dateUpdated</th>\n",
       "      <th>name</th>\n",
       "      <th>asins</th>\n",
       "      <th>brand</th>\n",
       "      <th>categories</th>\n",
       "      <th>primaryCategories</th>\n",
       "      <th>imageURLs</th>\n",
       "      <th>keys</th>\n",
       "      <th>...</th>\n",
       "      <th>reviews.didPurchase</th>\n",
       "      <th>reviews.doRecommend</th>\n",
       "      <th>reviews.id</th>\n",
       "      <th>reviews.numHelpful</th>\n",
       "      <th>reviews.rating</th>\n",
       "      <th>reviews.sourceURLs</th>\n",
       "      <th>reviews.text</th>\n",
       "      <th>reviews.title</th>\n",
       "      <th>reviews.username</th>\n",
       "      <th>sourceURLs</th>\n",
       "    </tr>\n",
       "  </thead>\n",
       "  <tbody>\n",
       "    <tr>\n",
       "      <th>0</th>\n",
       "      <td>AVpgNzjwLJeJML43Kpxn</td>\n",
       "      <td>2015-10-30T08:59:32Z</td>\n",
       "      <td>2019-04-25T09:08:16Z</td>\n",
       "      <td>AmazonBasics AAA Performance Alkaline Batterie...</td>\n",
       "      <td>B00QWO9P0O,B00LH3DMUO</td>\n",
       "      <td>Amazonbasics</td>\n",
       "      <td>AA,AAA,Health,Electronics,Health &amp; Household,C...</td>\n",
       "      <td>Health &amp; Beauty</td>\n",
       "      <td>https://images-na.ssl-images-amazon.com/images...</td>\n",
       "      <td>amazonbasics/hl002619,amazonbasicsaaaperforman...</td>\n",
       "      <td>...</td>\n",
       "      <td>NaN</td>\n",
       "      <td>NaN</td>\n",
       "      <td>NaN</td>\n",
       "      <td>NaN</td>\n",
       "      <td>3</td>\n",
       "      <td>https://www.amazon.com/product-reviews/B00QWO9...</td>\n",
       "      <td>I order 3 of them and one of the item is bad q...</td>\n",
       "      <td>... 3 of them and one of the item is bad quali...</td>\n",
       "      <td>Byger yang</td>\n",
       "      <td>https://www.barcodable.com/upc/841710106442,ht...</td>\n",
       "    </tr>\n",
       "    <tr>\n",
       "      <th>1</th>\n",
       "      <td>AVpgNzjwLJeJML43Kpxn</td>\n",
       "      <td>2015-10-30T08:59:32Z</td>\n",
       "      <td>2019-04-25T09:08:16Z</td>\n",
       "      <td>AmazonBasics AAA Performance Alkaline Batterie...</td>\n",
       "      <td>B00QWO9P0O,B00LH3DMUO</td>\n",
       "      <td>Amazonbasics</td>\n",
       "      <td>AA,AAA,Health,Electronics,Health &amp; Household,C...</td>\n",
       "      <td>Health &amp; Beauty</td>\n",
       "      <td>https://images-na.ssl-images-amazon.com/images...</td>\n",
       "      <td>amazonbasics/hl002619,amazonbasicsaaaperforman...</td>\n",
       "      <td>...</td>\n",
       "      <td>NaN</td>\n",
       "      <td>NaN</td>\n",
       "      <td>NaN</td>\n",
       "      <td>NaN</td>\n",
       "      <td>4</td>\n",
       "      <td>https://www.amazon.com/product-reviews/B00QWO9...</td>\n",
       "      <td>Bulk is always the less expensive way to go fo...</td>\n",
       "      <td>... always the less expensive way to go for pr...</td>\n",
       "      <td>ByMG</td>\n",
       "      <td>https://www.barcodable.com/upc/841710106442,ht...</td>\n",
       "    </tr>\n",
       "    <tr>\n",
       "      <th>2</th>\n",
       "      <td>AVpgNzjwLJeJML43Kpxn</td>\n",
       "      <td>2015-10-30T08:59:32Z</td>\n",
       "      <td>2019-04-25T09:08:16Z</td>\n",
       "      <td>AmazonBasics AAA Performance Alkaline Batterie...</td>\n",
       "      <td>B00QWO9P0O,B00LH3DMUO</td>\n",
       "      <td>Amazonbasics</td>\n",
       "      <td>AA,AAA,Health,Electronics,Health &amp; Household,C...</td>\n",
       "      <td>Health &amp; Beauty</td>\n",
       "      <td>https://images-na.ssl-images-amazon.com/images...</td>\n",
       "      <td>amazonbasics/hl002619,amazonbasicsaaaperforman...</td>\n",
       "      <td>...</td>\n",
       "      <td>NaN</td>\n",
       "      <td>NaN</td>\n",
       "      <td>NaN</td>\n",
       "      <td>NaN</td>\n",
       "      <td>5</td>\n",
       "      <td>https://www.amazon.com/product-reviews/B00QWO9...</td>\n",
       "      <td>Well they are not Duracell but for the price i...</td>\n",
       "      <td>... are not Duracell but for the price i am ha...</td>\n",
       "      <td>BySharon Lambert</td>\n",
       "      <td>https://www.barcodable.com/upc/841710106442,ht...</td>\n",
       "    </tr>\n",
       "    <tr>\n",
       "      <th>3</th>\n",
       "      <td>AVpgNzjwLJeJML43Kpxn</td>\n",
       "      <td>2015-10-30T08:59:32Z</td>\n",
       "      <td>2019-04-25T09:08:16Z</td>\n",
       "      <td>AmazonBasics AAA Performance Alkaline Batterie...</td>\n",
       "      <td>B00QWO9P0O,B00LH3DMUO</td>\n",
       "      <td>Amazonbasics</td>\n",
       "      <td>AA,AAA,Health,Electronics,Health &amp; Household,C...</td>\n",
       "      <td>Health &amp; Beauty</td>\n",
       "      <td>https://images-na.ssl-images-amazon.com/images...</td>\n",
       "      <td>amazonbasics/hl002619,amazonbasicsaaaperforman...</td>\n",
       "      <td>...</td>\n",
       "      <td>NaN</td>\n",
       "      <td>NaN</td>\n",
       "      <td>NaN</td>\n",
       "      <td>NaN</td>\n",
       "      <td>5</td>\n",
       "      <td>https://www.amazon.com/product-reviews/B00QWO9...</td>\n",
       "      <td>Seem to work as well as name brand batteries a...</td>\n",
       "      <td>... as well as name brand batteries at a much ...</td>\n",
       "      <td>Bymark sexson</td>\n",
       "      <td>https://www.barcodable.com/upc/841710106442,ht...</td>\n",
       "    </tr>\n",
       "    <tr>\n",
       "      <th>4</th>\n",
       "      <td>AVpgNzjwLJeJML43Kpxn</td>\n",
       "      <td>2015-10-30T08:59:32Z</td>\n",
       "      <td>2019-04-25T09:08:16Z</td>\n",
       "      <td>AmazonBasics AAA Performance Alkaline Batterie...</td>\n",
       "      <td>B00QWO9P0O,B00LH3DMUO</td>\n",
       "      <td>Amazonbasics</td>\n",
       "      <td>AA,AAA,Health,Electronics,Health &amp; Household,C...</td>\n",
       "      <td>Health &amp; Beauty</td>\n",
       "      <td>https://images-na.ssl-images-amazon.com/images...</td>\n",
       "      <td>amazonbasics/hl002619,amazonbasicsaaaperforman...</td>\n",
       "      <td>...</td>\n",
       "      <td>NaN</td>\n",
       "      <td>NaN</td>\n",
       "      <td>NaN</td>\n",
       "      <td>NaN</td>\n",
       "      <td>5</td>\n",
       "      <td>https://www.amazon.com/product-reviews/B00QWO9...</td>\n",
       "      <td>These batteries are very long lasting the pric...</td>\n",
       "      <td>... batteries are very long lasting the price ...</td>\n",
       "      <td>Bylinda</td>\n",
       "      <td>https://www.barcodable.com/upc/841710106442,ht...</td>\n",
       "    </tr>\n",
       "  </tbody>\n",
       "</table>\n",
       "<p>5 rows × 24 columns</p>\n",
       "</div>"
      ],
      "text/plain": [
       "                     id             dateAdded           dateUpdated  \\\n",
       "0  AVpgNzjwLJeJML43Kpxn  2015-10-30T08:59:32Z  2019-04-25T09:08:16Z   \n",
       "1  AVpgNzjwLJeJML43Kpxn  2015-10-30T08:59:32Z  2019-04-25T09:08:16Z   \n",
       "2  AVpgNzjwLJeJML43Kpxn  2015-10-30T08:59:32Z  2019-04-25T09:08:16Z   \n",
       "3  AVpgNzjwLJeJML43Kpxn  2015-10-30T08:59:32Z  2019-04-25T09:08:16Z   \n",
       "4  AVpgNzjwLJeJML43Kpxn  2015-10-30T08:59:32Z  2019-04-25T09:08:16Z   \n",
       "\n",
       "                                                name                  asins  \\\n",
       "0  AmazonBasics AAA Performance Alkaline Batterie...  B00QWO9P0O,B00LH3DMUO   \n",
       "1  AmazonBasics AAA Performance Alkaline Batterie...  B00QWO9P0O,B00LH3DMUO   \n",
       "2  AmazonBasics AAA Performance Alkaline Batterie...  B00QWO9P0O,B00LH3DMUO   \n",
       "3  AmazonBasics AAA Performance Alkaline Batterie...  B00QWO9P0O,B00LH3DMUO   \n",
       "4  AmazonBasics AAA Performance Alkaline Batterie...  B00QWO9P0O,B00LH3DMUO   \n",
       "\n",
       "          brand                                         categories  \\\n",
       "0  Amazonbasics  AA,AAA,Health,Electronics,Health & Household,C...   \n",
       "1  Amazonbasics  AA,AAA,Health,Electronics,Health & Household,C...   \n",
       "2  Amazonbasics  AA,AAA,Health,Electronics,Health & Household,C...   \n",
       "3  Amazonbasics  AA,AAA,Health,Electronics,Health & Household,C...   \n",
       "4  Amazonbasics  AA,AAA,Health,Electronics,Health & Household,C...   \n",
       "\n",
       "  primaryCategories                                          imageURLs  \\\n",
       "0   Health & Beauty  https://images-na.ssl-images-amazon.com/images...   \n",
       "1   Health & Beauty  https://images-na.ssl-images-amazon.com/images...   \n",
       "2   Health & Beauty  https://images-na.ssl-images-amazon.com/images...   \n",
       "3   Health & Beauty  https://images-na.ssl-images-amazon.com/images...   \n",
       "4   Health & Beauty  https://images-na.ssl-images-amazon.com/images...   \n",
       "\n",
       "                                                keys  ... reviews.didPurchase  \\\n",
       "0  amazonbasics/hl002619,amazonbasicsaaaperforman...  ...                 NaN   \n",
       "1  amazonbasics/hl002619,amazonbasicsaaaperforman...  ...                 NaN   \n",
       "2  amazonbasics/hl002619,amazonbasicsaaaperforman...  ...                 NaN   \n",
       "3  amazonbasics/hl002619,amazonbasicsaaaperforman...  ...                 NaN   \n",
       "4  amazonbasics/hl002619,amazonbasicsaaaperforman...  ...                 NaN   \n",
       "\n",
       "  reviews.doRecommend reviews.id reviews.numHelpful reviews.rating  \\\n",
       "0                 NaN        NaN                NaN              3   \n",
       "1                 NaN        NaN                NaN              4   \n",
       "2                 NaN        NaN                NaN              5   \n",
       "3                 NaN        NaN                NaN              5   \n",
       "4                 NaN        NaN                NaN              5   \n",
       "\n",
       "                                  reviews.sourceURLs  \\\n",
       "0  https://www.amazon.com/product-reviews/B00QWO9...   \n",
       "1  https://www.amazon.com/product-reviews/B00QWO9...   \n",
       "2  https://www.amazon.com/product-reviews/B00QWO9...   \n",
       "3  https://www.amazon.com/product-reviews/B00QWO9...   \n",
       "4  https://www.amazon.com/product-reviews/B00QWO9...   \n",
       "\n",
       "                                        reviews.text  \\\n",
       "0  I order 3 of them and one of the item is bad q...   \n",
       "1  Bulk is always the less expensive way to go fo...   \n",
       "2  Well they are not Duracell but for the price i...   \n",
       "3  Seem to work as well as name brand batteries a...   \n",
       "4  These batteries are very long lasting the pric...   \n",
       "\n",
       "                                       reviews.title  reviews.username  \\\n",
       "0  ... 3 of them and one of the item is bad quali...        Byger yang   \n",
       "1  ... always the less expensive way to go for pr...              ByMG   \n",
       "2  ... are not Duracell but for the price i am ha...  BySharon Lambert   \n",
       "3  ... as well as name brand batteries at a much ...     Bymark sexson   \n",
       "4  ... batteries are very long lasting the price ...           Bylinda   \n",
       "\n",
       "                                          sourceURLs  \n",
       "0  https://www.barcodable.com/upc/841710106442,ht...  \n",
       "1  https://www.barcodable.com/upc/841710106442,ht...  \n",
       "2  https://www.barcodable.com/upc/841710106442,ht...  \n",
       "3  https://www.barcodable.com/upc/841710106442,ht...  \n",
       "4  https://www.barcodable.com/upc/841710106442,ht...  \n",
       "\n",
       "[5 rows x 24 columns]"
      ]
     },
     "execution_count": 3,
     "metadata": {},
     "output_type": "execute_result"
    }
   ],
   "source": [
    "df = pd.read_csv(path)\n",
    "df.head()"
   ]
  },
  {
   "cell_type": "markdown",
   "metadata": {},
   "source": [
    "### Text Preprocessing"
   ]
  },
  {
   "cell_type": "code",
   "execution_count": 4,
   "metadata": {},
   "outputs": [],
   "source": [
    "nlp = spacy.load(\"en_core_web_lg\")"
   ]
  },
  {
   "cell_type": "code",
   "execution_count": 5,
   "metadata": {},
   "outputs": [],
   "source": [
    "def tokenize(text):\n",
    "    \"Complete this function\"\n",
    "    \n",
    "    return [token for token in simple_preprocess(text) if token not in STOPWORDS]"
   ]
  },
  {
   "cell_type": "code",
   "execution_count": 6,
   "metadata": {},
   "outputs": [],
   "source": [
    "df['tokens'] = df['reviews.text'].apply(tokenize)"
   ]
  },
  {
   "cell_type": "code",
   "execution_count": 7,
   "metadata": {},
   "outputs": [
    {
     "data": {
      "text/plain": [
       "['order',\n",
       " 'item',\n",
       " 'bad',\n",
       " 'quality',\n",
       " 'missing',\n",
       " 'backup',\n",
       " 'spring',\n",
       " 'pcs',\n",
       " 'aluminum',\n",
       " 'battery']"
      ]
     },
     "execution_count": 7,
     "metadata": {},
     "output_type": "execute_result"
    }
   ],
   "source": [
    "df['tokens'][0][0:10]"
   ]
  },
  {
   "cell_type": "markdown",
   "metadata": {},
   "source": [
    "### Gensim LDA Topic Modeling"
   ]
  },
  {
   "cell_type": "code",
   "execution_count": 8,
   "metadata": {},
   "outputs": [],
   "source": [
    "# A Dictionary Representation of all the words in our corpus\n",
    "id2word = corpora.Dictionary(df['tokens'])"
   ]
  },
  {
   "cell_type": "code",
   "execution_count": 9,
   "metadata": {},
   "outputs": [
    {
     "data": {
      "text/plain": [
       "3"
      ]
     },
     "execution_count": 9,
     "metadata": {},
     "output_type": "execute_result"
    }
   ],
   "source": [
    "# Testing for id from word\n",
    "id2word.token2id['battery']"
   ]
  },
  {
   "cell_type": "code",
   "execution_count": 10,
   "metadata": {},
   "outputs": [
    {
     "data": {
      "text/plain": [
       "28332"
      ]
     },
     "execution_count": 10,
     "metadata": {},
     "output_type": "execute_result"
    }
   ],
   "source": [
    "# See length of tokens\n",
    "len(df['tokens'])"
   ]
  },
  {
   "cell_type": "code",
   "execution_count": 11,
   "metadata": {},
   "outputs": [],
   "source": [
    "# Remove extreme values from the dataset\n",
    "id2word.filter_extremes(no_below=5, no_above=0.95)"
   ]
  },
  {
   "cell_type": "code",
   "execution_count": 12,
   "metadata": {},
   "outputs": [],
   "source": [
    "# Create a corpus or bag of words\n",
    "corpus = [id2word.doc2bow(text) for text in df['tokens']]"
   ]
  },
  {
   "cell_type": "code",
   "execution_count": 13,
   "metadata": {},
   "outputs": [
    {
     "data": {
      "text/plain": [
       "[(0, 1),\n",
       " (1, 1),\n",
       " (2, 1),\n",
       " (3, 1),\n",
       " (4, 1),\n",
       " (5, 1),\n",
       " (6, 1),\n",
       " (7, 1),\n",
       " (8, 1),\n",
       " (9, 1)]"
      ]
     },
     "execution_count": 13,
     "metadata": {},
     "output_type": "execute_result"
    }
   ],
   "source": [
    "# Checking to make sure I did it right\n",
    "corpus[0][:10]"
   ]
  },
  {
   "cell_type": "code",
   "execution_count": 14,
   "metadata": {},
   "outputs": [],
   "source": [
    "lda = LdaMulticore(corpus=corpus,\n",
    "                   id2word=id2word,\n",
    "                   random_state=723812,\n",
    "                   num_topics = 5,\n",
    "                   passes=10,\n",
    "                   workers=8\n",
    "                  )"
   ]
  },
  {
   "cell_type": "code",
   "execution_count": 15,
   "metadata": {},
   "outputs": [
    {
     "data": {
      "text/plain": [
       "[(0,\n",
       "  '0.079*\"great\" + 0.031*\"tablet\" + 0.024*\"price\" + 0.022*\"product\" + 0.017*\"works\" + 0.016*\"good\" + 0.012*\"recommend\" + 0.012*\"use\" + 0.012*\"screen\" + 0.011*\"amazon\"'),\n",
       " (1,\n",
       "  '0.051*\"tablet\" + 0.024*\"use\" + 0.021*\"loves\" + 0.021*\"kids\" + 0.020*\"easy\" + 0.019*\"great\" + 0.018*\"old\" + 0.016*\"bought\" + 0.016*\"games\" + 0.016*\"year\"'),\n",
       " (2,\n",
       "  '0.048*\"kindle\" + 0.023*\"love\" + 0.013*\"great\" + 0.012*\"best\" + 0.012*\"read\" + 0.011*\"use\" + 0.011*\"screen\" + 0.011*\"bought\" + 0.010*\"new\" + 0.010*\"buy\"'),\n",
       " (3,\n",
       "  '0.085*\"batteries\" + 0.044*\"good\" + 0.033*\"price\" + 0.032*\"great\" + 0.022*\"long\" + 0.021*\"work\" + 0.015*\"amazon\" + 0.014*\"battery\" + 0.014*\"brand\" + 0.013*\"buy\"'),\n",
       " (4,\n",
       "  '0.018*\"bought\" + 0.016*\"amazon\" + 0.016*\"tablet\" + 0.014*\"price\" + 0.014*\"better\" + 0.012*\"books\" + 0.009*\"great\" + 0.008*\"good\" + 0.008*\"black\" + 0.008*\"buy\"')]"
      ]
     },
     "execution_count": 15,
     "metadata": {},
     "output_type": "execute_result"
    }
   ],
   "source": [
    "# Viewing my topics\n",
    "lda.print_topics()"
   ]
  },
  {
   "cell_type": "markdown",
   "metadata": {},
   "source": [
    "### Selecting an appropriate number of topics"
   ]
  },
  {
   "cell_type": "code",
   "execution_count": null,
   "metadata": {},
   "outputs": [],
   "source": [
    "from gensim.models.coherencemodel import CoherenceModel\n",
    "\n",
    "def compute_coherence_values(dictionary, corpus, limit, start=2, step=3, passes=5):\n",
    "    \"\"\"\n",
    "    Compute c_v coherence for various number of topics\n",
    "\n",
    "    Parameters:\n",
    "    ----------\n",
    "    dictionary : Gensim dictionary\n",
    "    corpus : Gensim corpus\n",
    "    limit : Max num of topics\n",
    "    passes: the number of times the entire lda model & coherence values are calculated\n",
    "\n",
    "    Returns:\n",
    "    -------\n",
    "    coherence_values : Coherence values corresponding to the LDA model with respective number of topics\n",
    "    \"\"\"\n",
    "    \n",
    "    coherence_values = []\n",
    "    \n",
    "    for iter_ in range(passes):\n",
    "        for num_topics in range(start, limit, step):\n",
    "            model = LdaMulticore(corpus=corpus, num_topics=num_topics, id2word=dictionary, workers=4)\n",
    "            coherencemodel = CoherenceModel(model=model,dictionary=dictionary,corpus=corpus, coherence='u_mass')\n",
    "            coherence_values.append({'pass': iter_, \n",
    "                                     'num_topics': num_topics, \n",
    "                                     'coherence_score': coherencemodel.get_coherence()\n",
    "                                    })\n",
    "\n",
    "    return coherence_values"
   ]
  },
  {
   "cell_type": "markdown",
   "metadata": {},
   "source": [
    "#### The Coherence values cell took way too long to run and I had to drop it"
   ]
  },
  {
   "cell_type": "code",
   "execution_count": null,
   "metadata": {},
   "outputs": [],
   "source": [
    "# Making topic coherence\n",
    "topic_coherence = pd.DataFrame.from_records(coherence_values)\n",
    "topic_coherence.head()"
   ]
  },
  {
   "cell_type": "code",
   "execution_count": null,
   "metadata": {},
   "outputs": [],
   "source": [
    "import seaborn as sns\n",
    "\n",
    "ax = sns.lineplot(x=\"num_topics\", y=\"coherence_score\", data=topic_coherence)"
   ]
  },
  {
   "cell_type": "markdown",
   "metadata": {},
   "source": [
    "### Visualization"
   ]
  },
  {
   "cell_type": "code",
   "execution_count": 16,
   "metadata": {},
   "outputs": [],
   "source": [
    "# Import pyLDAvis and enable notebook\n",
    "import pyLDAvis.gensim\n",
    "\n",
    "pyLDAvis.enable_notebook()"
   ]
  },
  {
   "cell_type": "code",
   "execution_count": 17,
   "metadata": {},
   "outputs": [
    {
     "name": "stderr",
     "output_type": "stream",
     "text": [
      "C:\\Users\\ethan\\Anaconda3\\envs\\U4-S1-NLP\\lib\\site-packages\\pyLDAvis\\_prepare.py:257: FutureWarning: Sorting because non-concatenation axis is not aligned. A future version\n",
      "of pandas will change to not sort by default.\n",
      "\n",
      "To accept the future behavior, pass 'sort=False'.\n",
      "\n",
      "To retain the current behavior and silence the warning, pass 'sort=True'.\n",
      "\n",
      "  return pd.concat([default_term_info] + list(topic_dfs))\n"
     ]
    },
    {
     "data": {
      "text/html": [
       "\n",
       "<link rel=\"stylesheet\" type=\"text/css\" href=\"https://cdn.rawgit.com/bmabey/pyLDAvis/files/ldavis.v1.0.0.css\">\n",
       "\n",
       "\n",
       "<div id=\"ldavis_el214020722900286642264439711\"></div>\n",
       "<script type=\"text/javascript\">\n",
       "\n",
       "var ldavis_el214020722900286642264439711_data = {\"mdsDat\": {\"x\": [0.14440391178616513, -0.20690448342762074, 0.03820578673047826, 0.02437680550627504, -8.202059529761677e-05], \"y\": [0.053744656899041364, 0.011845596933947733, -0.07933705227899134, -0.09312669177455922, 0.10687349022056146], \"topics\": [1, 2, 3, 4, 5], \"cluster\": [1, 1, 1, 1, 1], \"Freq\": [28.28139877319336, 28.1321964263916, 17.412940979003906, 16.250436782836914, 9.92302417755127]}, \"tinfo\": {\"Category\": [\"Default\", \"Default\", \"Default\", \"Default\", \"Default\", \"Default\", \"Default\", \"Default\", \"Default\", \"Default\", \"Default\", \"Default\", \"Default\", \"Default\", \"Default\", \"Default\", \"Default\", \"Default\", \"Default\", \"Default\", \"Default\", \"Default\", \"Default\", \"Default\", \"Default\", \"Default\", \"Default\", \"Default\", \"Default\", \"Default\", \"Topic1\", \"Topic1\", \"Topic1\", \"Topic1\", \"Topic1\", \"Topic1\", \"Topic1\", \"Topic1\", \"Topic1\", \"Topic1\", \"Topic1\", \"Topic1\", \"Topic1\", \"Topic1\", \"Topic1\", \"Topic1\", \"Topic1\", \"Topic1\", \"Topic1\", \"Topic1\", \"Topic1\", \"Topic1\", \"Topic1\", \"Topic1\", \"Topic1\", \"Topic1\", \"Topic1\", \"Topic1\", \"Topic1\", \"Topic1\", \"Topic1\", \"Topic1\", \"Topic1\", \"Topic1\", \"Topic1\", \"Topic1\", \"Topic1\", \"Topic1\", \"Topic1\", \"Topic1\", \"Topic1\", \"Topic1\", \"Topic1\", \"Topic1\", \"Topic1\", \"Topic1\", \"Topic1\", \"Topic1\", \"Topic1\", \"Topic1\", \"Topic1\", \"Topic1\", \"Topic1\", \"Topic1\", \"Topic1\", \"Topic1\", \"Topic1\", \"Topic1\", \"Topic1\", \"Topic1\", \"Topic1\", \"Topic1\", \"Topic1\", \"Topic1\", \"Topic1\", \"Topic1\", \"Topic1\", \"Topic1\", \"Topic1\", \"Topic1\", \"Topic1\", \"Topic1\", \"Topic1\", \"Topic1\", \"Topic1\", \"Topic1\", \"Topic1\", \"Topic1\", \"Topic1\", \"Topic1\", \"Topic1\", \"Topic2\", \"Topic2\", \"Topic2\", \"Topic2\", \"Topic2\", \"Topic2\", \"Topic2\", \"Topic2\", \"Topic2\", \"Topic2\", \"Topic2\", \"Topic2\", \"Topic2\", \"Topic2\", \"Topic2\", \"Topic2\", \"Topic2\", \"Topic2\", \"Topic2\", \"Topic2\", \"Topic2\", \"Topic2\", \"Topic2\", \"Topic2\", \"Topic2\", \"Topic2\", \"Topic2\", \"Topic2\", \"Topic2\", \"Topic2\", \"Topic2\", \"Topic2\", \"Topic2\", \"Topic2\", \"Topic2\", \"Topic2\", \"Topic2\", \"Topic2\", \"Topic2\", \"Topic2\", \"Topic2\", \"Topic2\", \"Topic2\", \"Topic2\", \"Topic2\", \"Topic2\", \"Topic2\", \"Topic2\", \"Topic2\", \"Topic2\", \"Topic2\", \"Topic2\", \"Topic2\", \"Topic2\", \"Topic2\", \"Topic2\", \"Topic2\", \"Topic2\", \"Topic2\", \"Topic2\", \"Topic2\", \"Topic2\", \"Topic2\", \"Topic2\", \"Topic2\", \"Topic2\", \"Topic2\", \"Topic2\", \"Topic2\", \"Topic2\", \"Topic3\", \"Topic3\", \"Topic3\", \"Topic3\", \"Topic3\", \"Topic3\", \"Topic3\", \"Topic3\", \"Topic3\", \"Topic3\", \"Topic3\", \"Topic3\", \"Topic3\", \"Topic3\", \"Topic3\", \"Topic3\", \"Topic3\", \"Topic3\", \"Topic3\", \"Topic3\", \"Topic3\", \"Topic3\", \"Topic3\", \"Topic3\", \"Topic3\", \"Topic3\", \"Topic3\", \"Topic3\", \"Topic3\", \"Topic3\", \"Topic3\", \"Topic3\", \"Topic3\", \"Topic3\", \"Topic3\", \"Topic3\", \"Topic3\", \"Topic3\", \"Topic3\", \"Topic3\", \"Topic3\", \"Topic3\", \"Topic3\", \"Topic3\", \"Topic3\", \"Topic3\", \"Topic3\", \"Topic3\", \"Topic3\", \"Topic3\", \"Topic3\", \"Topic3\", \"Topic3\", \"Topic3\", \"Topic3\", \"Topic3\", \"Topic3\", \"Topic3\", \"Topic3\", \"Topic3\", \"Topic3\", \"Topic3\", \"Topic3\", \"Topic3\", \"Topic3\", \"Topic3\", \"Topic3\", \"Topic3\", \"Topic3\", \"Topic3\", \"Topic3\", \"Topic3\", \"Topic3\", \"Topic3\", \"Topic3\", \"Topic3\", \"Topic3\", \"Topic3\", \"Topic3\", \"Topic3\", \"Topic3\", \"Topic3\", \"Topic3\", \"Topic4\", \"Topic4\", \"Topic4\", \"Topic4\", \"Topic4\", \"Topic4\", \"Topic4\", \"Topic4\", \"Topic4\", \"Topic4\", \"Topic4\", \"Topic4\", \"Topic4\", \"Topic4\", \"Topic4\", \"Topic4\", \"Topic4\", \"Topic4\", \"Topic4\", \"Topic4\", \"Topic4\", \"Topic4\", \"Topic4\", \"Topic4\", \"Topic4\", \"Topic4\", \"Topic4\", \"Topic4\", \"Topic4\", \"Topic4\", \"Topic4\", \"Topic4\", \"Topic4\", \"Topic4\", \"Topic4\", \"Topic4\", \"Topic4\", \"Topic4\", \"Topic4\", \"Topic4\", \"Topic4\", \"Topic4\", \"Topic4\", \"Topic4\", \"Topic4\", \"Topic4\", \"Topic4\", \"Topic4\", \"Topic4\", \"Topic4\", \"Topic4\", \"Topic4\", \"Topic4\", \"Topic4\", \"Topic4\", \"Topic4\", \"Topic4\", \"Topic4\", \"Topic4\", \"Topic4\", \"Topic4\", \"Topic4\", \"Topic4\", \"Topic4\", \"Topic4\", \"Topic4\", \"Topic4\", \"Topic4\", \"Topic4\", \"Topic4\", \"Topic4\", \"Topic4\", \"Topic4\", \"Topic4\", \"Topic4\", \"Topic4\", \"Topic4\", \"Topic4\", \"Topic4\", \"Topic5\", \"Topic5\", \"Topic5\", \"Topic5\", \"Topic5\", \"Topic5\", \"Topic5\", \"Topic5\", \"Topic5\", \"Topic5\", \"Topic5\", \"Topic5\", \"Topic5\", \"Topic5\", \"Topic5\", \"Topic5\", \"Topic5\", \"Topic5\", \"Topic5\", \"Topic5\", \"Topic5\", \"Topic5\", \"Topic5\", \"Topic5\", \"Topic5\", \"Topic5\", \"Topic5\", \"Topic5\", \"Topic5\", \"Topic5\", \"Topic5\", \"Topic5\", \"Topic5\", \"Topic5\", \"Topic5\", \"Topic5\", \"Topic5\", \"Topic5\", \"Topic5\", \"Topic5\", \"Topic5\", \"Topic5\", \"Topic5\", \"Topic5\", \"Topic5\", \"Topic5\", \"Topic5\", \"Topic5\", \"Topic5\", \"Topic5\", \"Topic5\", \"Topic5\", \"Topic5\", \"Topic5\", \"Topic5\", \"Topic5\", \"Topic5\", \"Topic5\", \"Topic5\", \"Topic5\", \"Topic5\", \"Topic5\", \"Topic5\", \"Topic5\", \"Topic5\", \"Topic5\", \"Topic5\", \"Topic5\", \"Topic5\", \"Topic5\", \"Topic5\", \"Topic5\", \"Topic5\", \"Topic5\", \"Topic5\", \"Topic5\", \"Topic5\", \"Topic5\", \"Topic5\", \"Topic5\", \"Topic5\", \"Topic5\", \"Topic5\", \"Topic5\", \"Topic5\"], \"Freq\": [7569.0, 3012.0, 9312.0, 6830.0, 2147.0, 5208.0, 2133.0, 1272.0, 1694.0, 2424.0, 5968.0, 2280.0, 1790.0, 1506.0, 1121.0, 2450.0, 3202.0, 1523.0, 1752.0, 3485.0, 2118.0, 1621.0, 2101.0, 1455.0, 837.0, 2912.0, 1186.0, 1374.0, 1125.0, 1067.0, 52.36482238769531, 34.59625244140625, 40.83946990966797, 32.83177185058594, 219.5059051513672, 30.797414779663086, 440.38897705078125, 57.03578186035156, 80.80886840820312, 34.52851104736328, 16.776931762695312, 14.278183937072754, 15.637897491455078, 15.033563613891602, 21.769954681396484, 67.87965393066406, 39.46999740600586, 15.951539993286133, 27.603139877319336, 13.353314399719238, 12.16064453125, 11.144152641296387, 43.787750244140625, 60.23386001586914, 68.72877502441406, 12.914819717407227, 17.024791717529297, 10.102855682373047, 17.12196922302246, 9.710569381713867, 1021.3143920898438, 462.8410339355469, 151.3680877685547, 361.5804443359375, 87.36384582519531, 356.4498596191406, 1856.7388916015625, 376.3648376464844, 203.9370880126953, 230.026123046875, 802.7047729492188, 154.85498046875, 1398.7138671875, 52.866615295410156, 107.91740417480469, 404.55902099609375, 1382.5894775390625, 411.4430236816406, 275.70318603515625, 1854.5970458984375, 333.421630859375, 1588.5247802734375, 1362.3270263671875, 150.48191833496094, 4416.193359375, 397.0390930175781, 239.0829315185547, 705.9729614257812, 267.30218505859375, 1778.3795166015625, 327.08343505859375, 436.049072265625, 540.4791870117188, 2105.23974609375, 354.0142822265625, 1426.455078125, 738.1005859375, 1309.8958740234375, 419.07830810546875, 347.1330261230469, 1086.032958984375, 1640.3172607421875, 620.5531616210938, 661.3655395507812, 505.8902893066406, 849.1403198242188, 498.9552307128906, 614.5687255859375, 441.3112487792969, 449.0539245605469, 420.033935546875, 209.89759826660156, 75.68119049072266, 343.13214111328125, 73.46238708496094, 55.39176559448242, 47.133792877197266, 464.96368408203125, 7348.052734375, 213.7838134765625, 37.14973449707031, 348.6000671386719, 52.33247375488281, 57.680908203125, 63.100711822509766, 98.73055267333984, 37.48076248168945, 53.00990295410156, 26.12856674194336, 132.4208221435547, 24.535205841064453, 70.13738250732422, 26.945438385009766, 28.735219955444336, 302.7596435546875, 26.033241271972656, 80.28538513183594, 577.7011108398438, 1222.89453125, 24.22642707824707, 85.2929916381836, 294.94708251953125, 114.99019622802734, 364.9294128417969, 273.5772399902344, 61.97327423095703, 67.92984771728516, 262.18499755859375, 314.744873046875, 218.95852661132812, 1838.9283447265625, 140.21490478515625, 1902.7962646484375, 685.1219482421875, 150.6215057373047, 139.18321228027344, 394.0048828125, 262.27655029296875, 702.1162719726562, 3793.72802734375, 2848.250244140625, 151.5717010498047, 823.7338256835938, 1223.2078857421875, 401.83935546875, 1094.94775390625, 715.2128295898438, 2775.6708984375, 353.62298583984375, 500.4244384765625, 858.1254272460938, 1272.6043701171875, 547.7485961914062, 485.6457214355469, 946.310791015625, 719.5033569335938, 607.4861450195312, 411.12066650390625, 356.80218505859375, 369.78509521484375, 354.3803405761719, 163.30650329589844, 192.15292358398438, 166.1327362060547, 87.1797103881836, 39.31550216674805, 115.68512725830078, 83.91363525390625, 19.51638412475586, 20.57763671875, 17.59929847717285, 19.88204002380371, 18.1514949798584, 16.9381046295166, 156.679443359375, 25.870460510253906, 48.892333984375, 12.813901901245117, 12.804512023925781, 12.029373168945312, 15.817521095275879, 70.15681457519531, 11.651876449584961, 68.04938507080078, 21.7625789642334, 30.92151641845703, 10.794189453125, 18.864501953125, 11.844614028930664, 14.857110977172852, 9.40489387512207, 29.441564559936523, 2592.346435546875, 110.22325897216797, 89.39875030517578, 175.5189208984375, 195.31626892089844, 34.631107330322266, 390.3686828613281, 80.16522979736328, 400.5501403808594, 92.14790344238281, 50.57404708862305, 275.4412536621094, 177.19229125976562, 66.7378921508789, 61.651611328125, 149.5620880126953, 80.20899963378906, 216.25473022460938, 441.8662109375, 552.0259399414062, 630.5015258789062, 104.44610595703125, 663.3114013671875, 169.79580688476562, 1239.1265869140625, 136.46168518066406, 346.7011413574219, 608.2012939453125, 486.1075439453125, 179.19424438476562, 174.46240234375, 458.08502197265625, 541.544921875, 136.40542602539062, 521.2521362304688, 570.635986328125, 527.277587890625, 611.0723266601562, 326.494140625, 329.1880187988281, 677.7412109375, 394.793212890625, 329.176025390625, 414.6137390136719, 258.7895202636719, 215.82745361328125, 202.3260498046875, 290.58062744140625, 249.85592651367188, 285.6971130371094, 218.21627807617188, 228.94842529296875, 46.08489990234375, 212.97109985351562, 17.86590003967285, 27.05779266357422, 215.67535400390625, 349.7557067871094, 25.960357666015625, 10.99378490447998, 10.992002487182617, 14.306981086730957, 9.786919593811035, 9.348234176635742, 9.577827453613281, 11.842965126037598, 13.493887901306152, 10.17391586303711, 8.902548789978027, 20.239160537719727, 194.75682067871094, 8.274192810058594, 7.583382606506348, 10.304553031921387, 8.262226104736328, 8.952199935913086, 8.666662216186523, 8.035773277282715, 46.271705627441406, 7.786410808563232, 9.994357109069824, 7.087682247161865, 67.19190979003906, 15.517594337463379, 217.66036987304688, 65.330078125, 15.384071350097656, 15.9878511428833, 28.238849639892578, 22.436094284057617, 160.77639770507812, 227.9247283935547, 95.58258819580078, 448.199951171875, 235.3459930419922, 53.10292053222656, 23.648725509643555, 841.6272583007812, 1121.9254150390625, 95.1798095703125, 3952.695556640625, 614.685791015625, 132.6134033203125, 32.4169921875, 46.15167999267578, 272.8408508300781, 97.29234313964844, 249.40597534179688, 460.39898681640625, 130.26327514648438, 88.16044616699219, 536.05712890625, 433.87298583984375, 580.3570556640625, 1548.8616943359375, 388.4581298828125, 1211.085205078125, 359.7954406738281, 335.6573486328125, 522.3565673828125, 370.83935546875, 781.364013671875, 567.79541015625, 609.18896484375, 429.8514709472656, 505.7967529296875, 417.7415466308594, 263.15277099609375, 273.6701965332031, 257.2921142578125, 283.165283203125, 43.86440658569336, 14.341802597045898, 11.619462013244629, 223.49034118652344, 11.071264266967773, 17.111406326293945, 10.84703540802002, 21.364259719848633, 17.205678939819336, 10.226171493530273, 19.463571548461914, 10.894185066223145, 8.830828666687012, 8.36593246459961, 15.053010940551758, 7.764806747436523, 17.11208152770996, 11.306072235107422, 8.448997497558594, 7.11000394821167, 7.09935998916626, 6.837646961212158, 9.219793319702148, 6.5618367195129395, 7.952205181121826, 7.844067573547363, 7.131092548370361, 6.537317752838135, 6.800947189331055, 12.814858436584473, 26.929832458496094, 7.741311073303223, 47.176151275634766, 8.415338516235352, 26.05572509765625, 10.002094268798828, 12.8522367477417, 239.83261108398438, 30.553890228271484, 19.72231101989746, 19.09654426574707, 69.51797485351562, 73.32917022705078, 131.624267578125, 24.297563552856445, 39.18674087524414, 188.6868438720703, 39.880897521972656, 37.625823974609375, 44.10301971435547, 197.96192932128906, 56.065364837646484, 106.65912628173828, 163.5792694091797, 149.78729248046875, 417.5516052246094, 159.71200561523438, 142.1763458251953, 357.21966552734375, 552.176025390625, 219.8936309814453, 144.1615753173828, 77.70112609863281, 144.04330444335938, 221.4022674560547, 490.4034118652344, 146.58908081054688, 204.86050415039062, 206.72158813476562, 158.8214111328125, 207.71315002441406, 433.9524230957031, 486.85296630859375, 170.7711181640625, 231.6029052734375, 205.3047332763672, 193.7933807373047, 172.3065185546875, 254.01918029785156, 266.3675842285156, 194.64349365234375, 160.69793701171875, 174.79295349121094, 166.76841735839844, 150.01754760742188], \"Term\": [\"batteries\", \"kindle\", \"great\", \"tablet\", \"loves\", \"price\", \"product\", \"brand\", \"games\", \"long\", \"good\", \"work\", \"apps\", \"books\", \"play\", \"kids\", \"bought\", \"works\", \"year\", \"love\", \"battery\", \"screen\", \"old\", \"better\", \"brands\", \"easy\", \"read\", \"quality\", \"recommend\", \"value\", \"social\", \"homework\", \"yo\", \"tube\", \"educational\", \"silk\", \"google\", \"selection\", \"law\", \"hulu\", \"aunt\", \"searches\", \"buffering\", \"abc\", \"appstore\", \"bumper\", \"nabi\", \"grandmother\", \"downfall\", \"senior\", \"explored\", \"instagram\", \"activities\", \"grandchildren\", \"busy\", \"savy\", \"seven\", \"smoothly\", \"engaged\", \"elderly\", \"play\", \"watch\", \"youtube\", \"parental\", \"os\", \"friendly\", \"loves\", \"videos\", \"age\", \"mom\", \"daughter\", \"mother\", \"games\", \"starter\", \"appropriate\", \"child\", \"year\", \"kid\", \"yr\", \"kids\", \"granddaughter\", \"old\", \"apps\", \"downloaded\", \"tablet\", \"app\", \"android\", \"son\", \"user\", \"easy\", \"learning\", \"free\", \"set\", \"use\", \"download\", \"bought\", \"purchased\", \"love\", \"movies\", \"internet\", \"amazon\", \"great\", \"books\", \"time\", \"gift\", \"good\", \"perfect\", \"like\", \"christmas\", \"got\", \"tablets\", \"alkaline\", \"quantity\", \"lasting\", \"duracells\", \"longevity\", \"energizers\", \"aa\", \"batteries\", \"remotes\", \"span\", \"aaa\", \"leaking\", \"flashlight\", \"batch\", \"candles\", \"supply\", \"rayovac\", \"mah\", \"controllers\", \"volts\", \"worst\", \"cents\", \"drawer\", \"energizer\", \"discharge\", \"costco\", \"duracell\", \"brand\", \"motion\", \"controller\", \"remote\", \"flashlights\", \"toys\", \"amazonbasics\", \"leaked\", \"leak\", \"basics\", \"pack\", \"packaging\", \"work\", \"bulk\", \"long\", \"brands\", \"xbox\", \"packaged\", \"box\", \"lasted\", \"deal\", \"good\", \"price\", \"mouse\", \"far\", \"battery\", \"cheap\", \"buy\", \"quality\", \"great\", \"fine\", \"ve\", \"time\", \"amazon\", \"value\", \"life\", \"use\", \"like\", \"product\", \"better\", \"lot\", \"bought\", \"store\", \"oasis\", \"voyage\", \"paperwhite\", \"lighter\", \"backlight\", \"generation\", \"ereader\", \"clearer\", \"owning\", \"voyager\", \"leather\", \"bezel\", \"fingertips\", \"original\", \"adapter\", \"lighting\", \"enlarge\", \"facing\", \"flush\", \"points\", \"paper\", \"merlot\", \"readers\", \"knowledgeable\", \"ebook\", \"resist\", \"kinda\", \"pdf\", \"backlit\", \"lightest\", \"fires\", \"kindle\", \"buttons\", \"white\", \"page\", \"upgrade\", \"sunlight\", \"wife\", \"owned\", \"reader\", \"nook\", \"newer\", \"book\", \"model\", \"text\", \"pages\", \"weight\", \"upgraded\", \"easier\", \"light\", \"new\", \"read\", \"eyes\", \"best\", \"cover\", \"love\", \"previous\", \"hd\", \"screen\", \"reading\", \"older\", \"version\", \"books\", \"buy\", \"kindles\", \"like\", \"bought\", \"easy\", \"use\", \"got\", \"better\", \"great\", \"amazon\", \"battery\", \"price\", \"size\", \"excellent\", \"having\", \"good\", \"time\", \"tablet\", \"happy\", \"product\", \"dot\", \"echo\", \"responds\", \"stereo\", \"tap\", \"sound\", \"mobile\", \"birthdays\", \"rocks\", \"command\", \"jack\", \"strongly\", \"ample\", \"bedroom\", \"charm\", \"thousand\", \"parts\", \"darn\", \"speaker\", \"meetings\", \"stepkids\", \"streams\", \"slippery\", \"suited\", \"seat\", \"sits\", \"portability\", \"neice\", \"visit\", \"valuable\", \"voice\", \"pandora\", \"picture\", \"clarity\", \"suggested\", \"occasionally\", \"entry\", \"grandaughter\", \"portable\", \"alexa\", \"bluetooth\", \"fast\", \"highly\", \"processor\", \"tabs\", \"works\", \"product\", \"described\", \"great\", \"recommend\", \"resolution\", \"loud\", \"volume\", \"small\", \"fit\", \"music\", \"size\", \"laptop\", \"recommended\", \"quality\", \"value\", \"screen\", \"tablet\", \"device\", \"price\", \"perfect\", \"life\", \"battery\", \"nice\", \"good\", \"amazon\", \"use\", \"like\", \"love\", \"easy\", \"purchase\", \"best\", \"reading\", \"bought\", \"meets\", \"closes\", \"mines\", \"friday\", \"vudu\", \"clicking\", \"teen\", \"tools\", \"pen\", \"luv\", \"cards\", \"individually\", \"awsome\", \"prefect\", \"expanded\", \"elementary\", \"icons\", \"town\", \"disabled\", \"wonder\", \"hindsight\", \"modest\", \"tells\", \"clutter\", \"flaws\", \"dates\", \"damn\", \"misleading\", \"simpler\", \"caught\", \"deals\", \"bout\", \"win\", \"vehicle\", \"leading\", \"minimum\", \"delete\", \"black\", \"magazine\", \"god\", \"documents\", \"alternative\", \"special\", \"sd\", \"adequate\", \"bucks\", \"gb\", \"slot\", \"leave\", \"magazines\", \"needs\", \"micro\", \"add\", \"memory\", \"card\", \"better\", \"know\", \"ones\", \"books\", \"bought\", \"christmas\", \"expensive\", \"couldn\", \"grandson\", \"little\", \"amazon\", \"charge\", \"device\", \"reading\", \"money\", \"got\", \"price\", \"tablet\", \"need\", \"buy\", \"apps\", \"games\", \"nice\", \"good\", \"great\", \"long\", \"gift\", \"like\", \"batteries\", \"time\"], \"Total\": [7569.0, 3012.0, 9312.0, 6830.0, 2147.0, 5208.0, 2133.0, 1272.0, 1694.0, 2424.0, 5968.0, 2280.0, 1790.0, 1506.0, 1121.0, 2450.0, 3202.0, 1523.0, 1752.0, 3485.0, 2118.0, 1621.0, 2101.0, 1455.0, 837.0, 2912.0, 1186.0, 1374.0, 1125.0, 1067.0, 53.81477737426758, 35.951515197753906, 42.541595458984375, 34.25112533569336, 229.38253784179688, 32.20591354370117, 460.6422119140625, 59.871551513671875, 85.1480941772461, 36.41459655761719, 17.698017120361328, 15.134936332702637, 16.596723556518555, 16.036039352416992, 23.26243019104004, 72.53347778320312, 42.33857727050781, 17.13719940185547, 29.67314910888672, 14.356585502624512, 13.079499244689941, 12.015295028686523, 47.28936004638672, 65.07125854492188, 74.43750762939453, 13.999160766601562, 18.47630500793457, 10.978572845458984, 18.64971160888672, 10.578384399414062, 1121.3258056640625, 506.4406433105469, 164.94696044921875, 401.4895324707031, 95.92100524902344, 398.19781494140625, 2147.468994140625, 424.2304382324219, 227.39739990234375, 257.30645751953125, 934.4887084960938, 173.55813598632812, 1694.6724853515625, 57.90381622314453, 121.21973419189453, 480.20294189453125, 1752.8638916015625, 490.0779724121094, 323.13427734375, 2450.868896484375, 398.0175476074219, 2101.818603515625, 1790.3338623046875, 171.82904052734375, 6830.4677734375, 499.6198425292969, 289.0962219238281, 968.77978515625, 337.89190673828125, 2912.343505859375, 426.0736999511719, 604.0673828125, 799.230224609375, 4416.13037109375, 481.56817626953125, 3202.217529296875, 1336.2347412109375, 3485.93994140625, 644.9149169921875, 483.84423828125, 3811.629150390625, 9312.7919921875, 1506.0625, 2058.103759765625, 1094.80419921875, 5968.83154296875, 1138.6744384765625, 2459.96875, 895.2137451171875, 1252.55712890625, 734.0076293945312, 214.140869140625, 77.33584594726562, 350.6481628417969, 75.36312866210938, 56.867835998535156, 48.45271301269531, 478.0338134765625, 7569.15869140625, 220.22451782226562, 38.27035140991211, 359.1565246582031, 53.975196838378906, 59.492393493652344, 65.10386657714844, 102.1221694946289, 38.771339416503906, 54.893470764160156, 27.077672958374023, 137.33514404296875, 25.461660385131836, 72.80332946777344, 27.984376907348633, 29.8437557220459, 314.468505859375, 27.05670738220215, 83.45967102050781, 600.678955078125, 1272.2772216796875, 25.206640243530273, 88.78736877441406, 307.2244873046875, 119.7070541381836, 385.5288391113281, 294.69793701171875, 64.90990447998047, 71.28958892822266, 285.3517150878906, 351.21417236328125, 241.09837341308594, 2280.6279296875, 152.64361572265625, 2424.409423828125, 837.9598388671875, 166.3477020263672, 152.8895263671875, 469.1249694824219, 304.3338623046875, 908.248779296875, 5968.83154296875, 5208.72021484375, 172.83505249023438, 1265.2432861328125, 2118.754638671875, 577.6921997070312, 2267.81201171875, 1374.1339111328125, 9312.7919921875, 541.7747802734375, 902.906005859375, 2058.103759765625, 3811.629150390625, 1067.393310546875, 1022.3831787109375, 4416.13037109375, 2459.96875, 2133.66552734375, 1455.6915283203125, 941.6803588867188, 3202.217529296875, 991.1121215820312, 165.35833740234375, 194.64654541015625, 168.84149169921875, 88.77957153320312, 40.53844451904297, 120.59149932861328, 87.5334243774414, 20.44508171081543, 21.57337188720703, 18.46818733215332, 20.88764762878418, 19.10320281982422, 17.86809539794922, 166.10694885253906, 27.508451461791992, 52.08038330078125, 13.684928894042969, 13.679034233093262, 12.873458862304688, 16.988937377929688, 75.38211059570312, 12.530184745788574, 73.1823959350586, 23.426115036010742, 33.30002212524414, 11.637146949768066, 20.33972930908203, 12.81553840637207, 16.106260299682617, 10.216243743896484, 32.08380889892578, 3012.878662109375, 122.45537567138672, 98.93408203125, 197.122314453125, 221.58396911621094, 38.130741119384766, 464.7634582519531, 91.44976043701172, 492.5598449707031, 107.82440948486328, 57.5445556640625, 360.9249267578125, 224.04254150390625, 77.5649185180664, 72.28516387939453, 192.95718383789062, 99.08564758300781, 306.02239990234375, 699.0514526367188, 960.4171752929688, 1186.22216796875, 138.23251342773438, 1392.4656982421875, 258.951171875, 3485.93994140625, 200.6709442138672, 718.504638671875, 1621.24853515625, 1223.9586181640625, 297.78997802734375, 303.5894470214844, 1506.0625, 2267.81201171875, 203.0343017578125, 2459.96875, 3202.217529296875, 2912.343505859375, 4416.13037109375, 1252.55712890625, 1455.6915283203125, 9312.7919921875, 3811.629150390625, 2118.754638671875, 5208.72021484375, 1020.0443725585938, 709.4330444335938, 493.8600769042969, 5968.83154296875, 2058.103759765625, 6830.4677734375, 842.0438232421875, 2133.66552734375, 47.61062240600586, 222.46173095703125, 18.794111251831055, 28.77640724182129, 230.70115661621094, 375.9456481933594, 28.014087677001953, 11.871671676635742, 11.943923950195312, 15.547490119934082, 10.6385498046875, 10.166091918945312, 10.445501327514648, 12.932599067687988, 14.740580558776855, 11.141618728637695, 9.770171165466309, 22.21384620666504, 214.38592529296875, 9.116458892822266, 8.367355346679688, 11.3701753616333, 9.126838684082031, 9.903712272644043, 9.589629173278809, 8.920310020446777, 51.41492462158203, 8.661882400512695, 11.125969886779785, 7.892074108123779, 75.745361328125, 17.31170654296875, 252.06590270996094, 75.35970306396484, 17.252540588378906, 18.021129608154297, 32.44062423706055, 25.58682632446289, 206.07638549804688, 309.9468994140625, 125.00862121582031, 685.145751953125, 359.59283447265625, 69.1517105102539, 28.342145919799805, 1523.213623046875, 2133.66552734375, 134.54078674316406, 9312.7919921875, 1125.1844482421875, 204.23414611816406, 40.54654312133789, 61.24919509887695, 506.01812744140625, 149.56549072265625, 477.30059814453125, 1020.0443725585938, 218.36837768554688, 138.44032287597656, 1374.1339111328125, 1067.393310546875, 1621.24853515625, 6830.4677734375, 1041.421875, 5208.72021484375, 1138.6744384765625, 1022.3831787109375, 2118.754638671875, 1232.970947265625, 5968.83154296875, 3811.629150390625, 4416.13037109375, 2459.96875, 3485.93994140625, 2912.343505859375, 960.3729248046875, 1392.4656982421875, 1223.9586181640625, 3202.217529296875, 45.66461944580078, 15.283327102661133, 12.425019264221191, 239.82127380371094, 11.942672729492188, 18.46531105041504, 11.72684383392334, 23.127498626708984, 18.68564796447754, 11.140342712402344, 21.279401779174805, 11.930227279663086, 9.678472518920898, 9.19080638885498, 16.667198181152344, 8.5989408493042, 18.981548309326172, 12.550821304321289, 9.379196166992188, 7.922118663787842, 7.916342258453369, 7.629378795623779, 10.293155670166016, 7.337917804718018, 8.893719673156738, 8.777691841125488, 7.999585151672363, 7.337562561035156, 7.635072231292725, 14.389110565185547, 30.570661544799805, 8.700631141662598, 54.81593704223633, 9.471820831298828, 30.332496643066406, 11.325034141540527, 14.709908485412598, 314.1986389160156, 36.56858444213867, 23.178354263305664, 22.667816162109375, 91.47126770019531, 97.68827819824219, 198.49832153320312, 30.526512145996094, 52.52821350097656, 324.12554931640625, 55.70458984375, 53.27958679199219, 65.92018127441406, 416.638916015625, 90.05561065673828, 209.44699096679688, 360.34197998046875, 322.86260986328125, 1455.6915283203125, 434.03729248046875, 383.4453430175781, 1506.0625, 3202.217529296875, 895.2137451171875, 476.932861328125, 188.92762756347656, 506.0554504394531, 1003.421142578125, 3811.629150390625, 559.375732421875, 1041.421875, 1223.9586181640625, 751.5930786132812, 1252.55712890625, 5208.72021484375, 6830.4677734375, 943.2313232421875, 2267.81201171875, 1790.3338623046875, 1694.6724853515625, 1232.970947265625, 5968.83154296875, 9312.7919921875, 2424.409423828125, 1094.80419921875, 2459.96875, 7569.15869140625, 2058.103759765625], \"loglift\": [30.0, 29.0, 28.0, 27.0, 26.0, 25.0, 24.0, 23.0, 22.0, 21.0, 20.0, 19.0, 18.0, 17.0, 16.0, 15.0, 14.0, 13.0, 12.0, 11.0, 10.0, 9.0, 8.0, 7.0, 6.0, 5.0, 4.0, 3.0, 2.0, 1.0, 1.235700011253357, 1.2244999408721924, 1.222100019454956, 1.2206000089645386, 1.218999981880188, 1.2181999683380127, 1.218000054359436, 1.214400053024292, 1.2107000350952148, 1.2098000049591064, 1.2094999551773071, 1.204699993133545, 1.2035000324249268, 1.1984000205993652, 1.1966999769210815, 1.1966999769210815, 1.1928000450134277, 1.1913000345230103, 1.1907000541687012, 1.190500020980835, 1.1900999546051025, 1.1877000331878662, 1.1859999895095825, 1.1857000589370728, 1.1832000017166138, 1.1822999715805054, 1.1811000108718872, 1.179800033569336, 1.1775000095367432, 1.17739999294281, 1.1694999933242798, 1.1728999614715576, 1.1770999431610107, 1.1583000421524048, 1.1694999933242798, 1.1521999835968018, 1.1174999475479126, 1.1432000398635864, 1.154099941253662, 1.1509000062942505, 1.1109999418258667, 1.148900032043457, 1.0709999799728394, 1.1720000505447388, 1.1467000246047974, 1.091599941253662, 1.0256999731063843, 1.0880999565124512, 1.104200005531311, 0.9842000007629395, 1.0858999490737915, 0.9829999804496765, 0.989799976348877, 1.1303000450134277, 0.8269000053405762, 1.0332000255584717, 1.0729999542236328, 0.9465000033378601, 1.0285999774932861, 0.7696999907493591, 0.9986000061035156, 0.9369999766349792, 0.8718000054359436, 0.5220999717712402, 0.955299973487854, 0.4542999863624573, 0.6693999767303467, 0.2842000126838684, 0.8319000005722046, 0.930899977684021, 0.007400000002235174, -0.47350001335144043, 0.37630000710487366, 0.12770000100135803, 0.4909999966621399, -0.6870999932289124, 0.43790000677108765, -0.12399999797344208, 0.5557000041007996, 0.23720000684261322, 0.704800009727478, 1.2482000589370728, 1.2466000318527222, 1.2466000318527222, 1.2426999807357788, 1.2419999837875366, 1.2407000064849854, 1.2404999732971191, 1.2386000156402588, 1.2386000156402588, 1.2384999990463257, 1.2383999824523926, 1.2373000383377075, 1.2373000383377075, 1.2369999885559082, 1.2345000505447388, 1.2344000339508057, 1.233299970626831, 1.2325999736785889, 1.2317999601364136, 1.2311999797821045, 1.2309000492095947, 1.2303999662399292, 1.2303999662399292, 1.230299949645996, 1.229699969291687, 1.2295000553131104, 1.2293000221252441, 1.228700041770935, 1.228600025177002, 1.2280999422073364, 1.2274999618530273, 1.2280999422073364, 1.2132999897003174, 1.1938999891281128, 1.222000002861023, 1.2200000286102295, 1.1835999488830566, 1.1585999727249146, 1.1719000339508057, 1.0529999732971191, 1.1833000183105469, 1.0260000228881836, 1.0669000148773193, 1.1689000129699707, 1.174299955368042, 1.0937000513076782, 1.1195000410079956, 1.0108000040054321, 0.8151000142097473, 0.6646000146865845, 1.1369999647140503, 0.8391000032424927, 0.7189000248908997, 0.9053000211715698, 0.5400999784469604, 0.6152999997138977, 0.05779999867081642, 0.8416000008583069, 0.6780999898910522, 0.3935000002384186, 0.1712999939918518, 0.6011000275611877, 0.5238000154495239, -0.27219998836517334, 0.03889999911189079, 0.012000000104308128, 0.0038999998942017555, 0.2978000044822693, -0.8903999924659729, 0.23980000615119934, 1.7354999780654907, 1.7351000308990479, 1.7317999601364136, 1.7297999858856201, 1.7173000574111938, 1.7064000368118286, 1.7057000398635864, 1.7015000581741333, 1.700700044631958, 1.6998000144958496, 1.6986000537872314, 1.6969000101089478, 1.6944999694824219, 1.6894999742507935, 1.6865999698638916, 1.6848000288009644, 1.6821999549865723, 1.6819000244140625, 1.6800999641418457, 1.6764999628067017, 1.6761000156402588, 1.6753000020980835, 1.6751999855041504, 1.674299955368042, 1.6739000082015991, 1.6727999448776245, 1.672700047492981, 1.6691999435424805, 1.667199969291687, 1.6651999950408936, 1.6619999408721924, 1.597599983215332, 1.642699956893921, 1.6466000080108643, 1.6318999528884888, 1.6217999458312988, 1.6517000198364258, 1.5735000371932983, 1.6162999868392944, 1.541200041770935, 1.5908000469207764, 1.6188000440597534, 1.4776999950408936, 1.5133999586105347, 1.597599983215332, 1.5887999534606934, 1.4931999444961548, 1.5365999937057495, 1.4007999897003174, 1.289199948310852, 1.194200038909912, 1.1159000396728516, 1.4677000045776367, 1.0063999891281128, 1.3258999586105347, 0.7135999798774719, 1.3623000383377075, 1.0191999673843384, 0.7674999833106995, 0.8245000243186951, 1.2400000095367432, 1.194000005722046, 0.5577999949455261, 0.3158000111579895, 1.3502000570297241, 0.19629999995231628, 0.023099999874830246, 0.039000000804662704, -0.2298000007867813, 0.4034000039100647, 0.2612999975681305, -0.8723999857902527, -0.5195000171661377, -0.11400000005960464, -0.782800018787384, 0.3763999938964844, 0.5580000281333923, 0.8555999994277954, -1.2745000123977661, -0.36070001125335693, -1.426300048828125, 0.397599995136261, -0.48410001397132874, 1.784500002861023, 1.7734999656677246, 1.7663999795913696, 1.7554999589920044, 1.7496999502182007, 1.7447999715805054, 1.7409000396728516, 1.7402000427246094, 1.7339999675750732, 1.7338999509811401, 1.7336000204086304, 1.733199954032898, 1.730299949645996, 1.7289999723434448, 1.728700041770935, 1.726199984550476, 1.7240999937057495, 1.7239999771118164, 1.7209999561309814, 1.7201000452041626, 1.7187000513076782, 1.7186000347137451, 1.7174999713897705, 1.715999960899353, 1.71589994430542, 1.7125999927520752, 1.7116999626159668, 1.7105000019073486, 1.7098000049591064, 1.7094999551773071, 1.6971999406814575, 1.7075999975204468, 1.670300006866455, 1.6742000579833984, 1.7023999691009521, 1.6972999572753906, 1.6783000230789185, 1.6856000423431396, 1.5687999725341797, 1.5096999406814575, 1.548699975013733, 1.392699956893921, 1.3931000232696533, 1.5529999732971191, 1.6360000371932983, 1.2237999439239502, 1.174299955368042, 1.4709999561309814, 0.960099995136261, 1.212499976158142, 1.385200023651123, 1.5932999849319458, 1.534000039100647, 1.1993999481201172, 1.3869999647140503, 1.1679999828338623, 1.0214999914169312, 1.3004000186920166, 1.3658000230789185, 0.8756999969482422, 0.9168000221252441, 0.7896999716758728, 0.33320000767707825, 0.8309000134468079, 0.3582000136375427, 0.6650000214576721, 0.7031999826431274, 0.41679999232292175, 0.6155999898910522, -0.21619999408721924, -0.08699999749660492, -0.16380000114440918, 0.07259999960660934, -0.11330000311136246, -0.12479999661445618, 0.5224999785423279, 0.19009999930858612, 0.2574000060558319, -0.6085000038146973, 2.2701001167297363, 2.2467000484466553, 2.243299961090088, 2.239799976348877, 2.234499931335449, 2.2342000007629395, 2.232300043106079, 2.2309999465942383, 2.227799892425537, 2.2246999740600586, 2.221100091934204, 2.2195000648498535, 2.2186999320983887, 2.2163000106811523, 2.208400011062622, 2.2083001136779785, 2.2065999507904053, 2.205899953842163, 2.205899953842163, 2.202199935913086, 2.2014000415802, 2.200700044631958, 2.200200080871582, 2.198499917984009, 2.1984000205993652, 2.1979000568389893, 2.1953999996185303, 2.1947999000549316, 2.1946001052856445, 2.1944000720977783, 2.183500051498413, 2.19350004196167, 2.1602001190185547, 2.191999912261963, 2.1582999229431152, 2.1861000061035156, 2.175299882888794, 2.0401999950408936, 2.1305999755859375, 2.1487998962402344, 2.1389000415802, 2.035900115966797, 2.0234999656677246, 1.8995000123977661, 2.0820999145507812, 2.0172998905181885, 1.7692999839782715, 1.976099967956543, 1.962399959564209, 1.908400058746338, 1.5662000179290771, 1.836400032043457, 1.6354999542236328, 1.5205999612808228, 1.5422999858856201, 1.0614999532699585, 1.3106000423431396, 1.3181999921798706, 0.871399998664856, 0.5526000261306763, 0.9064000248908997, 1.1138999462127686, 1.4218000173568726, 1.0537999868392944, 0.7990999817848206, 0.2597000002861023, 0.9710999727249146, 0.6843000054359436, 0.5317999720573425, 0.7559000253677368, 0.5134999752044678, -0.17479999363422394, -0.33090001344680786, 0.6013000011444092, 0.02879999950528145, 0.14470000565052032, 0.14190000295639038, 0.3424000144004822, -0.8465999960899353, -1.24399995803833, -0.211899995803833, 0.39149999618530273, -0.33399999141693115, -1.5048999786376953, -0.3084999918937683], \"logprob\": [30.0, 29.0, 28.0, 27.0, 26.0, 25.0, 24.0, 23.0, 22.0, 21.0, 20.0, 19.0, 18.0, 17.0, 16.0, 15.0, 14.0, 13.0, 12.0, 11.0, 10.0, 9.0, 8.0, 7.0, 6.0, 5.0, 4.0, 3.0, 2.0, 1.0, -7.415200233459473, -7.829599857330322, -7.663700103759766, -7.881999969482422, -5.98199987411499, -7.946000099182129, -5.285699844360352, -7.329699993133545, -6.981299877166748, -7.831600189208984, -8.553400039672852, -8.714699745178223, -8.623700141906738, -8.663100242614746, -8.292900085449219, -7.155700206756592, -7.69789981842041, -8.603799819946289, -8.055500030517578, -8.781599998474121, -8.875200271606445, -8.962499618530273, -7.593999862670898, -7.275199890136719, -7.143199920654297, -8.8149995803833, -8.538700103759766, -9.060600280761719, -8.532999992370605, -9.100199699401855, -4.444499969482422, -5.236000061035156, -6.353700160980225, -5.482900142669678, -6.903299808502197, -5.497200012207031, -3.8468000888824463, -5.442800045013428, -6.055600166320801, -5.935200214385986, -4.685400009155273, -6.330900192260742, -4.130099773406982, -7.405600070953369, -6.691999912261963, -5.37060022354126, -4.14169979095459, -5.353700160980225, -5.7540998458862305, -3.8480000495910645, -5.564000129699707, -4.002799987792969, -4.156400203704834, -6.359600067138672, -2.9804000854492188, -5.389400005340576, -5.896599769592285, -4.813799858093262, -5.784999847412109, -3.889899969100952, -5.583199977874756, -5.295599937438965, -5.080900192260742, -3.7211999893188477, -5.5040998458862305, -4.110400199890137, -4.7692999839782715, -4.195700168609619, -5.335299968719482, -5.52370023727417, -4.3831000328063965, -3.9707999229431152, -4.942800045013428, -4.8790998458862305, -5.14709997177124, -4.629199981689453, -5.160900115966797, -4.952499866485596, -5.283599853515625, -5.266300201416016, -5.333099842071533, -6.021500110626221, -7.041600227355957, -5.53000020980835, -7.071300029754639, -7.353700160980225, -7.515100002288818, -5.226099967956543, -2.46589994430542, -6.0030999183654785, -7.7530999183654785, -5.514200210571289, -7.4105000495910645, -7.313199996948242, -7.223400115966797, -6.775700092315674, -7.74429988861084, -7.397600173950195, -8.10509967803955, -6.482100009918213, -8.168000221252441, -7.117599964141846, -8.074299812316895, -8.010000228881836, -5.655200004577637, -8.108699798583984, -6.982500076293945, -5.008999824523926, -4.259099960327148, -8.180700302124023, -6.921999931335449, -5.681300163269043, -6.623300075531006, -5.468400001525879, -5.756499767303467, -7.241399765014648, -7.149600028991699, -5.799099922180176, -5.616300106048584, -5.9791998863220215, -3.8512001037597656, -6.424900054931641, -3.816999912261963, -4.838500022888184, -6.353300094604492, -6.432300090789795, -5.39169979095459, -5.798699855804443, -4.814000129699707, -3.127000093460083, -3.413599967956543, -6.3470001220703125, -4.654300212860107, -4.258900165557861, -5.372099876403809, -4.36959981918335, -4.795499801635742, -3.439500093460083, -5.499899864196777, -5.152599811553955, -4.613399982452393, -4.219299793243408, -5.062300205230713, -5.182600021362305, -4.515500068664551, -4.7895002365112305, -4.958799839019775, -5.3491997718811035, -5.490900039672852, -5.4552001953125, -5.497700214385986, -5.792799949645996, -5.630099773406982, -5.775599956512451, -6.420400142669678, -7.216800212860107, -6.137499809265137, -6.458600044250488, -7.917200088500977, -7.864200115203857, -8.020500183105469, -7.898600101470947, -7.989699840545654, -8.058799743652344, -5.834199905395508, -7.635300159454346, -6.998799800872803, -8.337900161743164, -8.338600158691406, -8.401100158691406, -8.127300262451172, -6.637700080871582, -8.432900428771973, -6.6682000160217285, -7.808199882507324, -7.456999778747559, -8.509400367736816, -7.951099872589111, -8.416500091552734, -8.189900398254395, -8.647199630737305, -7.50600004196167, -3.02810001373291, -6.1859002113342285, -6.395299911499023, -5.720699787139893, -5.613800048828125, -7.343699932098389, -4.921299934387207, -6.504300117492676, -4.895599842071533, -6.364999771118164, -6.965000152587891, -5.269999980926514, -5.71120023727417, -6.687600135803223, -6.766900062561035, -5.88070011138916, -6.503799915313721, -5.511899948120117, -4.797399997711182, -4.57480001449585, -4.44189977645874, -6.239699840545654, -4.391200065612793, -5.753799915313721, -3.766200065612793, -5.972400188446045, -5.039899826049805, -4.47790002822876, -4.702000141143799, -5.699900150299072, -5.7266998291015625, -4.761300086975098, -4.593999862670898, -5.972799777984619, -4.632199764251709, -4.5416998863220215, -4.620699882507324, -4.473199844360352, -5.099999904632568, -5.091800212860107, -4.36959981918335, -4.909999847412109, -5.091800212860107, -4.861100196838379, -5.332399845123291, -5.513899803161621, -5.578499794006348, -5.2164998054504395, -5.367499828338623, -5.233500003814697, -5.502900123596191, -5.454899787902832, -6.988800048828125, -5.458199977874756, -7.936399936676025, -7.521299839019775, -5.445499897003174, -4.962100028991699, -7.562699794769287, -8.42199993133545, -8.422100067138672, -8.158599853515625, -8.538299560546875, -8.584099769592285, -8.559900283813477, -8.347599983215332, -8.217100143432617, -8.499500274658203, -8.633000373840332, -7.811699867248535, -5.547599792480469, -8.706199645996094, -8.793399810791016, -8.486700057983398, -8.707599639892578, -8.627400398254395, -8.659799575805664, -8.735400199890137, -6.984799861907959, -8.766900062561035, -8.51729965209961, -8.861000061035156, -6.611800193786621, -8.077300071716309, -5.436399936676025, -6.639900207519531, -8.086000442504883, -8.047499656677246, -7.478600025177002, -7.708600044250488, -5.739299774169922, -5.3902997970581055, -6.259300231933594, -4.714099884033203, -5.35830020904541, -6.847099781036377, -7.656000137329102, -4.084000110626221, -3.7964999675750732, -6.263500213623047, -2.5371999740600586, -4.398200035095215, -5.9319000244140625, -7.34060001373291, -6.987400054931641, -5.210400104522705, -6.241600036621094, -5.30019998550415, -4.68720006942749, -5.94980001449585, -6.340199947357178, -4.535099983215332, -4.746600151062012, -4.455699920654297, -3.4739999771118164, -4.857100009918213, -3.7200000286102295, -4.933800220489502, -5.003200054168701, -4.560999870300293, -4.903500080108643, -4.158299922943115, -4.477499961853027, -4.407199859619141, -4.755899906158447, -4.593200206756592, -4.78439998626709, -5.246600151062012, -5.207399845123291, -5.269100189208984, -5.173299789428711, -6.544899940490723, -7.662899971008301, -7.8734002113342285, -4.9166998863220215, -7.9217000007629395, -7.486299991607666, -7.942200183868408, -7.2642998695373535, -7.480800151824951, -8.001099586486816, -7.357500076293945, -7.93779993057251, -8.14780044555664, -8.201899528503418, -7.614500045776367, -8.276399612426758, -7.486299991607666, -7.900700092315674, -8.192000389099121, -8.364500045776367, -8.366000175476074, -8.403599739074707, -8.104700088500977, -8.44480037689209, -8.252599716186523, -8.266300201416016, -8.361599922180176, -8.44849967956543, -8.409000396728516, -7.775400161743164, -7.032800197601318, -8.279500007629395, -6.4721999168396, -8.196000099182129, -7.065800189971924, -8.023300170898438, -7.772500038146973, -4.846099853515625, -6.906599998474121, -7.344299793243408, -7.376500129699707, -6.084499835968018, -6.031099796295166, -5.446100234985352, -7.135700225830078, -6.657700061798096, -5.085999965667725, -6.640200138092041, -6.698400020599365, -6.5395002365112305, -5.038000106811523, -6.299499988555908, -5.656400203704834, -5.228799819946289, -5.316800117492676, -4.291600227355957, -5.252699851989746, -5.36899995803833, -4.447700023651123, -4.012199878692627, -4.9328999519348145, -5.355100154876709, -5.973199844360352, -5.355899810791016, -4.92609977722168, -4.130799770355225, -5.338399887084961, -5.003699779510498, -4.994699954986572, -5.258299827575684, -4.9899001121521, -4.2530999183654785, -4.1381001472473145, -5.185699939727783, -4.88100004196167, -5.0015997886657715, -5.059299945831299, -5.176799774169922, -4.788599967956543, -4.741199970245361, -5.054900169372559, -5.246500015258789, -5.162399768829346, -5.209400177001953, -5.315299987792969]}, \"token.table\": {\"Topic\": [1, 2, 3, 4, 5, 1, 2, 3, 4, 5, 1, 1, 2, 3, 4, 3, 4, 1, 2, 3, 4, 5, 1, 2, 3, 4, 5, 1, 2, 3, 4, 5, 1, 2, 3, 4, 5, 2, 3, 4, 5, 1, 2, 3, 5, 1, 2, 3, 4, 5, 2, 3, 4, 5, 4, 1, 2, 3, 4, 5, 1, 2, 3, 4, 5, 1, 2, 3, 4, 5, 1, 2, 3, 4, 5, 1, 5, 1, 5, 2, 3, 3, 4, 1, 2, 3, 4, 5, 2, 3, 5, 1, 2, 3, 4, 5, 1, 2, 3, 4, 5, 4, 1, 2, 3, 4, 5, 1, 2, 3, 4, 5, 3, 4, 1, 2, 3, 4, 5, 1, 2, 3, 4, 5, 1, 2, 3, 4, 5, 1, 2, 3, 4, 5, 1, 2, 3, 4, 5, 5, 1, 2, 3, 4, 5, 1, 2, 3, 4, 5, 1, 2, 3, 4, 5, 1, 2, 3, 4, 5, 1, 2, 3, 4, 5, 1, 2, 3, 1, 2, 4, 1, 2, 3, 4, 5, 1, 2, 3, 4, 5, 2, 3, 4, 5, 1, 2, 3, 4, 5, 2, 5, 4, 5, 2, 1, 2, 3, 4, 5, 4, 1, 2, 3, 4, 5, 1, 2, 3, 4, 5, 1, 2, 3, 4, 5, 1, 2, 3, 4, 3, 1, 5, 5, 5, 4, 1, 2, 3, 5, 1, 2, 5, 1, 2, 3, 5, 1, 2, 3, 4, 5, 1, 2, 3, 4, 5, 5, 2, 4, 5, 1, 2, 3, 4, 5, 1, 2, 3, 4, 5, 1, 3, 5, 3, 4, 5, 2, 3, 4, 5, 1, 2, 3, 4, 5, 5, 2, 3, 4, 5, 4, 1, 3, 5, 1, 2, 3, 4, 5, 1, 2, 3, 4, 5, 2, 1, 2, 3, 4, 5, 2, 3, 1, 2, 3, 4, 5, 1, 2, 3, 4, 5, 1, 2, 3, 1, 2, 3, 4, 5, 1, 2, 5, 1, 5, 1, 2, 3, 4, 5, 2, 1, 2, 5, 3, 3, 4, 5, 1, 2, 3, 4, 5, 1, 2, 3, 4, 5, 1, 5, 1, 2, 3, 4, 5, 1, 1, 2, 3, 4, 5, 3, 1, 2, 3, 4, 5, 1, 2, 3, 4, 5, 1, 2, 3, 4, 5, 3, 1, 3, 4, 1, 2, 3, 4, 5, 1, 2, 2, 3, 5, 5, 3, 1, 2, 3, 4, 5, 1, 2, 3, 4, 5, 1, 2, 3, 4, 5, 1, 2, 3, 4, 5, 1, 2, 3, 4, 5, 1, 3, 5, 1, 2, 3, 4, 5, 1, 2, 3, 5, 1, 2, 3, 4, 5, 1, 2, 3, 4, 5, 1, 2, 3, 4, 5, 3, 4, 1, 2, 3, 1, 2, 3, 4, 5, 1, 1, 2, 3, 4, 5, 1, 2, 3, 4, 5, 1, 2, 3, 4, 5, 1, 2, 3, 4, 5, 1, 2, 3, 4, 5, 1, 2, 3, 4, 5, 5, 1, 5, 1, 4, 5, 3, 5, 5, 1, 1, 2, 3, 4, 5, 4, 1, 2, 3, 4, 5, 1, 2, 3, 4, 5, 1, 3, 1, 2, 3, 4, 5, 1, 2, 3, 4, 5, 1, 2, 3, 4, 5, 1, 3, 1, 2, 3, 4, 5, 1, 2, 3, 4, 5, 1, 2, 3, 4, 5, 1, 2, 3, 5, 2, 4, 5, 2, 3, 5, 2, 3, 4, 5, 2, 4, 1, 2, 3, 4, 5, 3, 2, 3, 4, 5, 1, 2, 3, 4, 5, 1, 2, 3, 4, 5, 2, 3, 3, 1, 2, 3, 4, 1, 2, 3, 4, 5, 1, 2, 3, 4, 5, 1, 2, 3, 4, 5, 2, 5, 1, 2, 3, 4, 5, 1, 2, 4, 5, 1, 2, 3, 4, 5, 1, 2, 3, 4, 5, 5, 1, 5, 1, 5, 2, 4, 4, 5, 1, 2, 3, 4, 5, 3, 1, 3, 4, 5, 5, 2, 5, 5, 1, 3, 4, 1, 2, 3, 4, 5, 5, 1, 2, 3, 5, 1, 2, 3, 4, 5, 1, 2, 3, 4, 5, 2, 1, 2, 4, 5, 1, 2, 3, 4, 5, 1, 2, 3, 4, 5, 1, 3, 5, 1, 2, 3, 4, 5, 1, 2, 3, 4, 5, 4, 1, 2, 3, 4, 5, 1, 2, 3, 5, 1, 2, 3, 4, 5, 1, 2, 3, 4, 5, 2, 3, 4, 2, 4, 1, 2, 3, 4, 5, 1, 2, 3, 4, 5, 1, 2, 3, 4, 5, 1, 2, 3, 4, 5, 1, 2, 3, 5, 1, 3, 4, 5, 3, 1, 2, 3, 4, 5, 1, 2, 3, 4, 5, 1, 2, 3, 4, 5, 1, 2, 3, 4, 5, 1, 2, 3, 4, 5, 4, 5, 2, 3, 5, 2, 3, 5, 1, 2, 3, 4, 5, 4, 3, 2, 5, 1, 2, 3, 4, 5, 1, 2, 3, 4, 5, 1, 2, 3, 4, 5, 3, 4, 2, 3, 4, 1, 2, 3, 4, 5, 5, 1, 2, 3, 4, 5, 1, 2, 3, 4, 5, 1, 2, 3, 4, 5, 1, 2, 3, 4, 5, 1, 2, 3, 4, 5, 1, 2, 3, 4, 5, 1, 2, 3, 4, 5, 2, 3, 2, 5, 1, 2, 3, 4, 5, 1, 2, 3, 4, 5, 1, 3, 4, 5, 1, 2, 3, 4, 5, 1, 2, 3, 4, 5, 1, 2, 3, 4, 5, 1, 2, 3, 4, 5, 1, 2, 3, 4, 5, 3, 1, 2, 3, 4, 5, 4, 4, 1, 1, 2, 3, 4, 5, 1, 2, 3, 4, 5, 1, 4, 1, 3, 4, 5, 1, 1, 2, 3, 4, 5, 1, 2, 1, 5, 4, 1, 2, 3, 4, 5, 4, 1, 2, 3, 4, 5, 1, 2, 3, 4, 5, 1, 1, 5, 1, 2, 3, 4, 5, 1, 2, 3, 4, 5, 2, 1, 2, 3, 4, 5, 1, 2, 3, 4, 5, 1, 2, 3, 4, 1, 4, 1, 2, 3, 4, 5, 4, 4, 2, 4, 4, 1, 2, 3, 4, 2, 1, 2, 3, 4, 5, 1, 2, 3, 4, 5, 1, 4, 1, 2, 3, 4, 5, 5, 5, 1, 2, 3, 4, 5, 4, 1, 2, 3, 4, 5, 2, 5, 3, 5, 1, 2, 3, 4, 5, 1, 5, 1, 2, 3, 4, 5, 1, 3, 4, 1, 2, 3, 4, 5, 1, 2, 3, 4, 5, 4, 1, 2, 3, 4, 5, 1, 2, 3, 4, 5, 5, 1, 2, 3, 4, 5, 1, 2, 3, 4, 5, 4, 1, 2, 3, 4, 5, 2, 1, 2, 3, 4, 5, 2, 3, 4, 5, 3, 5, 1, 2, 3, 4, 5, 1, 2, 3, 4, 2, 3, 4, 5, 1, 2, 3, 4, 5, 1, 4, 5, 5, 1, 2, 3, 4, 5, 1, 2, 3, 4, 5, 1, 2, 4, 5, 1, 2, 3, 5, 1, 2, 3, 4, 5, 1, 2, 1, 2, 3, 4, 5, 1, 2, 3, 4, 5], \"Freq\": [0.002091902308166027, 0.9727345108985901, 0.006275706458836794, 0.002091902308166027, 0.014643315225839615, 0.002784301294013858, 0.9717211723327637, 0.005568602588027716, 0.002784301294013858, 0.019490109756588936, 0.9353930354118347, 0.9304418563842773, 0.02114640548825264, 0.02114640548825264, 0.02114640548825264, 0.9451640844345093, 0.03635246306657791, 0.10503850877285004, 0.019097911193966866, 0.05251925438642502, 0.3151155412197113, 0.5108691453933716, 0.06551682204008102, 0.03275841102004051, 0.03275841102004051, 0.09827522933483124, 0.7862018346786499, 0.8971078991889954, 0.035180702805519104, 0.004397587850689888, 0.02638552524149418, 0.035180702805519104, 0.09356441348791122, 0.009679077193140984, 0.06775353848934174, 0.7356098890304565, 0.09356441348791122, 0.9806628823280334, 0.004669823218137026, 0.004669823218137026, 0.009339646436274052, 0.1749183088541031, 0.05466197431087494, 0.010932394303381443, 0.7652676105499268, 0.28491753339767456, 0.33397793769836426, 0.10363022983074188, 0.14901764690876007, 0.12855395674705505, 0.9297655820846558, 0.006786609999835491, 0.010179915465414524, 0.050899576395750046, 0.957349956035614, 0.8267143368721008, 0.006918111816048622, 0.01729528047144413, 0.09339451044797897, 0.05188583955168724, 0.7946041226387024, 0.004003043752163649, 0.026019783690571785, 0.03402587026357651, 0.14010652899742126, 0.8909440636634827, 0.03299792855978012, 0.00824948213994503, 0.00824948213994503, 0.05774637311697006, 0.7607519626617432, 0.010612545534968376, 0.010612545534968376, 0.10277412831783295, 0.11450378596782684, 0.9457309246063232, 0.04298777133226395, 0.960559606552124, 0.9298987984657288, 0.02466794289648533, 0.9620497226715088, 0.9313148856163025, 0.062087658792734146, 0.017522236332297325, 0.9181651473045349, 0.031540025025606155, 0.007008894346654415, 0.024531129747629166, 0.9676844477653503, 0.015360070392489433, 0.015360070392489433, 0.001981726149097085, 0.9707816243171692, 0.0033028770703822374, 0.001981726149097085, 0.02206321805715561, 0.009911483153700829, 0.5772258639335632, 0.15527988970279694, 0.24637113511562347, 0.010855433531105518, 0.9278877377510071, 0.13285784423351288, 0.11562223732471466, 0.4761338233947754, 0.1967732459306717, 0.07899656146764755, 0.04946102946996689, 0.28234004974365234, 0.22600942850112915, 0.15525266528129578, 0.28714874386787415, 0.9422503709793091, 0.9265754818916321, 0.03500970080494881, 0.006365399807691574, 0.16231769323349, 0.03182699903845787, 0.7638480067253113, 0.007999448105692863, 0.015998896211385727, 0.07999448478221893, 0.7679470181465149, 0.12799116969108582, 0.0748078003525734, 0.008311977609992027, 0.761931300163269, 0.0748078003525734, 0.07757846266031265, 0.41233348846435547, 0.003319915384054184, 0.3041042387485504, 0.04382288083434105, 0.23704195022583008, 0.4453164041042328, 0.11554493010044098, 0.17831392586231232, 0.0883762538433075, 0.17238053679466248, 0.9194735288619995, 0.019184652715921402, 0.8398615121841431, 0.0362376794219017, 0.002131628105416894, 0.10444977879524231, 0.005501945503056049, 0.9612684845924377, 0.011789883486926556, 0.00235797674395144, 0.01886381395161152, 0.001193374628201127, 0.8174616098403931, 0.002386749256402254, 0.004773498512804508, 0.17303931713104248, 0.15229910612106323, 0.09518694132566452, 0.019037388265132904, 0.019037388265132904, 0.742458164691925, 0.9640457034111023, 0.9171690344810486, 0.04585845395922661, 0.019653622061014175, 0.019653622061014175, 0.937498152256012, 0.013786736875772476, 0.04136021062731743, 0.926952064037323, 0.05373635143041611, 0.013434087857604027, 0.008166240528225899, 0.008166240528225899, 0.8982864022254944, 0.008166240528225899, 0.07349616289138794, 0.08995454758405685, 0.4828442633152008, 0.23899687826633453, 0.08598596602678299, 0.10230124741792679, 0.9694271087646484, 0.009792192839086056, 0.009792192839086056, 0.009792192839086056, 0.22300507128238678, 0.012389170937240124, 0.0371675118803978, 0.2632698714733124, 0.46459391713142395, 0.04699380323290825, 0.892882227897644, 0.0694969967007637, 0.9034609794616699, 0.9648240804672241, 0.11798867583274841, 0.11620096862316132, 0.3056979179382324, 0.1966477930545807, 0.2627929449081421, 0.8819191455841064, 0.13848204910755157, 0.6958723068237305, 0.003462051274254918, 0.09174435585737228, 0.07097204774618149, 0.8433934450149536, 0.09162792563438416, 0.018742075189948082, 0.04164905846118927, 0.008329811505973339, 0.4926197826862335, 0.041330911219120026, 0.20330339670181274, 0.01675577461719513, 0.24575136601924896, 0.026539383456110954, 0.013269691728055477, 0.09288784116506577, 0.8625299334526062, 0.978230357170105, 0.05415559932589531, 0.9206451773643494, 0.9160308837890625, 0.9539490938186646, 0.9004668593406677, 0.01126286294311285, 0.9573433995246887, 0.0225257258862257, 0.01126286294311285, 0.007281457539647818, 0.9611523747444153, 0.021844372153282166, 0.011981834657490253, 0.9585468173027039, 0.011981834657490253, 0.011981834657490253, 0.1429118663072586, 0.10056760907173157, 0.25406554341316223, 0.0899815484881401, 0.4128565192222595, 0.13129888474941254, 0.007723463699221611, 0.6564944386482239, 0.16219274699687958, 0.046340782195329666, 0.8750453591346741, 0.04501696676015854, 0.9003393650054932, 0.9114013314247131, 0.8592934012413025, 0.0064206235110759735, 0.05350519344210625, 0.014981454238295555, 0.06634644418954849, 0.013212239369750023, 0.7729159593582153, 0.06055609509348869, 0.02752549760043621, 0.12551626563072205, 0.06542219966650009, 0.032711099833250046, 0.8831997513771057, 0.06798138469457626, 0.06798138469457626, 0.8837580680847168, 0.2081153243780136, 0.07432690262794495, 0.7061055898666382, 0.014865380711853504, 0.2275734841823578, 0.059533990919589996, 0.14307361841201782, 0.3725675642490387, 0.19684626162052155, 0.8529515862464905, 0.9609447121620178, 0.08823081851005554, 0.04411540925502777, 0.8381927609443665, 0.9661709666252136, 0.9436140656471252, 0.033700499683618546, 0.033700499683618546, 0.7350984215736389, 0.0041530984453856945, 0.05606682598590851, 0.014535844326019287, 0.19104252755641937, 0.8729606866836548, 0.005819737911224365, 0.05237764120101929, 0.03491842746734619, 0.03491842746734619, 0.9717275500297546, 0.003329565515741706, 0.96224445104599, 0.003329565515741706, 0.001664782757870853, 0.029966089874505997, 0.9686434268951416, 0.013269088231027126, 0.19279634952545166, 0.03594508022069931, 0.7058306932449341, 0.03594508022069931, 0.026141876354813576, 0.6105049252510071, 0.049788083881139755, 0.18095393478870392, 0.14352703094482422, 0.015108107589185238, 0.030030010268092155, 0.030030010268092155, 0.9309303164482117, 0.004495155066251755, 0.013485465198755264, 0.013485465198755264, 0.9574680328369141, 0.00899031013250351, 0.9590965509414673, 0.017438119277358055, 0.021797649562358856, 0.9453239440917969, 0.9303471446037292, 0.0031799685675650835, 0.9635304808616638, 0.0031799685675650835, 0.0031799685675650835, 0.028619717806577682, 0.9700179100036621, 0.9115422368049622, 0.05362013354897499, 0.05362013354897499, 0.9499501585960388, 0.09247664362192154, 0.8631153106689453, 0.030825547873973846, 0.011424207128584385, 0.011424207128584385, 0.9596334099769592, 0.011424207128584385, 0.011424207128584385, 0.090212881565094, 0.2494949996471405, 0.3044684827327728, 0.2410375475883484, 0.11276610195636749, 0.05999808758497238, 0.8999713063240051, 0.06709539890289307, 0.503215491771698, 0.0754823237657547, 0.05241828039288521, 0.3019292950630188, 0.9174663424491882, 0.05787350609898567, 0.007234188262373209, 0.7523555755615234, 0.17362050712108612, 0.014468376524746418, 0.9503594636917114, 0.1572820097208023, 0.6512581706047058, 0.12250608205795288, 0.03556628152728081, 0.03398555889725685, 0.17806430160999298, 0.13573753833770752, 0.021893151104450226, 0.653875470161438, 0.008757260628044605, 0.16981226205825806, 0.6534080505371094, 0.10520976781845093, 0.01845785416662693, 0.05352777615189552, 0.9514164328575134, 0.031168369576334953, 0.9038826823234558, 0.031168369576334953, 0.0735463798046112, 0.08691844344139099, 0.18052291870117188, 0.6485453248023987, 0.013372068293392658, 0.016808871179819107, 0.97491455078125, 0.9606785774230957, 0.00835372693836689, 0.02506117895245552, 0.8995111584663391, 0.9321504235267639, 0.7217738032341003, 0.06456233561038971, 0.03476433455944061, 0.11422567069530487, 0.06456233561038971, 0.025018630549311638, 0.004169771913439035, 0.01667908765375614, 0.02084885910153389, 0.9298591017723083, 0.8940280079841614, 0.022601831704378128, 0.040181033313274384, 0.02762446179986, 0.015067887492477894, 0.8255282640457153, 0.0017702535260468721, 0.007671098690479994, 0.05074726790189743, 0.11447639763355255, 0.20053957402706146, 0.0030852241907268763, 0.012340896762907505, 0.20671002566814423, 0.5831073522567749, 0.02487737499177456, 0.961925208568573, 0.008292458020150661, 0.4621830880641937, 0.030142376199364662, 0.16989339888095856, 0.1909017115831375, 0.14705826342105865, 0.04314370080828667, 0.04314370080828667, 0.04314370080828667, 0.8628740310668945, 0.14223890006542206, 0.6356353163719177, 0.04875326156616211, 0.13084638118743896, 0.04255439341068268, 0.9551882147789001, 0.002170882187783718, 0.008683528751134872, 0.002170882187783718, 0.030392350628972054, 0.3584666848182678, 0.11336807906627655, 0.26026755571365356, 0.10219094902276993, 0.16606028378009796, 0.07816522568464279, 0.8598174452781677, 0.9220660924911499, 0.06147107109427452, 0.01536776777356863, 0.836646556854248, 0.010049807839095592, 0.027636973187327385, 0.005024903919547796, 0.12059769779443741, 0.9336414933204651, 0.65803062915802, 0.0019760681316256523, 0.0019760681316256523, 0.055329903960227966, 0.28455379605293274, 0.17610186338424683, 0.2980846166610718, 0.0728030875325203, 0.424469918012619, 0.028562862426042557, 0.19595178961753845, 0.2161407768726349, 0.2588938772678375, 0.2767076790332794, 0.05225381255149841, 0.22880974411964417, 0.19641190767288208, 0.4090227484703064, 0.09921838343143463, 0.06682054698467255, 0.21155047416687012, 0.0013917795149609447, 0.4829474687576294, 0.25191208720207214, 0.05149583891034126, 0.05839938297867775, 0.17241722345352173, 0.10845600068569183, 0.6535168886184692, 0.005561846308410168, 0.8842467665672302, 0.9735333919525146, 0.027815239503979683, 0.9611530303955078, 0.027461515739560127, 0.027461515739560127, 0.05268274247646332, 0.8956065773963928, 0.9220277070999146, 0.9154998064041138, 0.7171729803085327, 0.0062003424391150475, 0.051669519394636154, 0.08887157589197159, 0.1364075392484665, 0.939977765083313, 0.8386420607566833, 0.06325524300336838, 0.04489081725478172, 0.04080983251333237, 0.010202458128333092, 0.7568744421005249, 0.11057303100824356, 0.08894804865121841, 0.033865541219711304, 0.01020046416670084, 0.04916486144065857, 0.9341323971748352, 0.09658537060022354, 0.0033190848771482706, 0.8603067994117737, 0.01858687587082386, 0.02124214358627796, 0.12805718183517456, 0.004925276152789593, 0.6698375344276428, 0.06402859091758728, 0.13298246264457703, 0.14745277166366577, 0.3202489912509918, 0.12441327422857285, 0.0391671396791935, 0.36863192915916443, 0.04268740117549896, 0.9391228556632996, 0.13280311226844788, 0.01831766963005066, 0.10532660782337189, 0.5953242778778076, 0.14654135704040527, 0.013143460266292095, 0.860896646976471, 0.03943037986755371, 0.05257384106516838, 0.03614451363682747, 0.0028518615290522575, 0.9781885147094727, 0.005703723058104515, 0.005703723058104515, 0.005703723058104515, 0.9512837529182434, 0.011744244024157524, 0.023488488048315048, 0.011744244024157524, 0.0989038273692131, 0.0329679436981678, 0.8571665287017822, 0.9538559913635254, 0.014027293771505356, 0.014027293771505356, 0.9551700949668884, 0.015405969694256783, 0.015405969694256783, 0.015405969694256783, 0.9634054899215698, 0.01852702908217907, 0.7674728631973267, 0.004694023635238409, 0.03520517796278, 0.11969760060310364, 0.07041035592556, 0.9575036764144897, 0.1876891404390335, 0.05630674213171005, 0.05630674213171005, 0.7132187485694885, 0.007824854925274849, 0.4753599464893341, 0.18290598690509796, 0.32864391803741455, 0.004890534095466137, 0.06294243782758713, 0.1473425179719925, 0.6322853565216064, 0.14448149502277374, 0.012874588370323181, 0.011263852939009666, 0.9799551963806152, 0.8809500336647034, 0.019201086834073067, 0.019201086834073067, 0.9408532977104187, 0.019201086834073067, 0.2500031888484955, 0.2926866412162781, 0.21179130673408508, 0.17479896545410156, 0.07113911211490631, 0.27007603645324707, 0.15347494184970856, 0.1285601705312729, 0.22821922600269318, 0.22024650871753693, 0.033410198986530304, 0.7849334478378296, 0.025160767138004303, 0.07589477300643921, 0.08043196052312851, 0.9671548008918762, 0.017584633082151413, 0.23468685150146484, 0.37910953164100647, 0.17946641147136688, 0.14123688638210297, 0.0658397525548935, 0.09865205734968185, 0.04932602867484093, 0.7892164587974548, 0.04932602867484093, 0.3757953345775604, 0.08175700157880783, 0.3554278016090393, 0.14515453577041626, 0.041882533580064774, 0.8647388815879822, 0.009778954088687897, 0.03352783992886543, 0.023283222690224648, 0.06891833990812302, 0.8976384401321411, 0.1367293894290924, 0.8477221727371216, 0.31856709718704224, 0.6674739122390747, 0.9602006673812866, 0.8775337338447571, 0.021898791193962097, 0.963546872138977, 0.11933108419179916, 0.002775141503661871, 0.061053115874528885, 0.3607684075832367, 0.4551232159137726, 0.9576873779296875, 0.19987650215625763, 0.022208498790860176, 0.15545949339866638, 0.6218379735946655, 0.965793251991272, 0.0882999524474144, 0.8829995393753052, 0.9539952874183655, 0.035696323961019516, 0.035696323961019516, 0.9281044602394104, 0.0714150071144104, 0.00446343794465065, 0.7900285124778748, 0.0624881312251091, 0.0714150071144104, 0.9175059199333191, 0.8938757181167603, 0.04275057837367058, 0.05829624459147453, 0.003886416321620345, 0.12107615172863007, 0.36056745052337646, 0.10244905203580856, 0.20356759428977966, 0.21155063807964325, 0.8930724859237671, 0.011523515917360783, 0.08066461235284805, 0.005761757958680391, 0.005761757958680391, 0.9521300792694092, 0.10414554178714752, 0.8794512152671814, 0.011571726761758327, 0.005785863380879164, 0.6496980786323547, 0.0015505921328440309, 0.01085414458066225, 0.3039160668849945, 0.03411302715539932, 0.3058868944644928, 0.006285347044467926, 0.056568123400211334, 0.5216838121414185, 0.11104113608598709, 0.9211457371711731, 0.047238241881132126, 0.023619120940566063, 0.19825465977191925, 0.3509213328361511, 0.10495834797620773, 0.16432872414588928, 0.18129168450832367, 0.16561102867126465, 0.11520767211914062, 0.036002397537231445, 0.20881390571594238, 0.4752316474914551, 0.9235867857933044, 0.18845976889133453, 0.14472877979278564, 0.5747502446174622, 0.05622556805610657, 0.03540128096938133, 0.06951135396957397, 0.017377838492393494, 0.886269748210907, 0.03475567698478699, 0.18978549540042877, 0.20276227593421936, 0.16707612574100494, 0.3008992373943329, 0.1395004540681839, 0.07419469952583313, 0.009274337440729141, 0.8532390594482422, 0.06492036581039429, 0.009274337440729141, 0.006047472357749939, 0.9857380390167236, 0.006047472357749939, 0.055490415543317795, 0.8878466486930847, 0.756011962890625, 0.01807958073914051, 0.08706745505332947, 0.08611589670181274, 0.05328718572854996, 0.29215219616889954, 0.013432285748422146, 0.6010947823524475, 0.0335807129740715, 0.057087212800979614, 0.04433486983180046, 0.5215867161750793, 0.03129520267248154, 0.036511071026325226, 0.37032657861709595, 0.006020217668265104, 0.03010108880698681, 0.9451741576194763, 0.006020217668265104, 0.018060652539134026, 0.9069963097572327, 0.010425245389342308, 0.05212622508406639, 0.031275734305381775, 0.03280489891767502, 0.8747972846031189, 0.06560979783535004, 0.021869931370019913, 0.9734222292900085, 0.00284726545214653, 0.8968886137008667, 0.03986171633005142, 0.02562538906931877, 0.03701445087790489, 0.006540670525282621, 0.909153163433075, 0.013081341050565243, 0.006540670525282621, 0.06540670245885849, 0.004147684667259455, 0.9083428978919983, 0.020738422870635986, 0.01659073866903782, 0.053919900208711624, 0.010145984590053558, 0.005072992295026779, 0.8928466439247131, 0.005072992295026779, 0.09131386131048203, 0.041502293199300766, 0.041502293199300766, 0.857714056968689, 0.027668194845318794, 0.041502293199300766, 0.9242300987243652, 0.05776438117027283, 0.053062986582517624, 0.9286022782325745, 0.013265746645629406, 0.005922714713960886, 0.9831706285476685, 0.005922714713960886, 0.9016424417495728, 0.06724957376718521, 0.00249072490260005, 0.017435073852539062, 0.0149443494156003, 0.9211711883544922, 0.9363633394241333, 0.05351701006293297, 0.9097891449928284, 0.4382288455963135, 0.08430855721235275, 0.12558461725711823, 0.31615710258483887, 0.03512856736779213, 0.035704948008060455, 0.01190164964646101, 0.0833115428686142, 0.8648532032966614, 0.0039672162383794785, 0.9105293154716492, 0.008026213385164738, 0.012485220097005367, 0.003567205974832177, 0.0651015043258667, 0.9417893290519714, 0.058861833065748215, 0.01944960467517376, 0.07779841870069504, 0.8946818709373474, 0.014557708986103535, 0.02911541797220707, 0.06793597340583801, 0.7812637090682983, 0.11160910129547119, 0.8704350590705872, 0.11959877610206604, 0.09966564923524857, 0.6777263879776001, 0.08969908207654953, 0.014949847012758255, 0.057787708938121796, 0.5467754006385803, 0.07967408001422882, 0.23249472677707672, 0.08332180976867676, 0.14460958540439606, 0.014460958540439606, 0.07230479270219803, 0.7664307951927185, 0.014460958540439606, 0.07826906442642212, 0.28448694944381714, 0.10732703655958176, 0.5258556008338928, 0.003749416209757328, 0.167643204331398, 0.2967597246170044, 0.14265291392803192, 0.2738519608974457, 0.11766262352466583, 0.5522981882095337, 0.17362219095230103, 0.1317133903503418, 0.0913013219833374, 0.05163763463497162, 0.01309916004538536, 0.5203277468681335, 0.05312437191605568, 0.3900638818740845, 0.023287395015358925, 0.9827266931533813, 0.012930613942444324, 0.9655064344406128, 0.01821710355579853, 0.3270888030529022, 0.016860248520970345, 0.5319408178329468, 0.020232297480106354, 0.10537654906511307, 0.09948030114173889, 0.010151050984859467, 0.8141142725944519, 0.07308756560087204, 0.004060420207679272, 0.013664488680660725, 0.9291852116584778, 0.02732897736132145, 0.02732897736132145, 0.20752336084842682, 0.01634042151272297, 0.3970722556114197, 0.20997442305088043, 0.16912336647510529, 0.15730753540992737, 0.16264000535011292, 0.12620152533054352, 0.5465770363807678, 0.007998688146471977, 0.12279659509658813, 0.13724325597286224, 0.09390328079462051, 0.6356529593467712, 0.0072233290411531925, 0.009764846414327621, 0.9602099061012268, 0.0032549488823860884, 0.006509897764772177, 0.019529692828655243, 0.0045408206060528755, 0.9717355966567993, 0.0045408206060528755, 0.0045408206060528755, 0.018163282424211502, 0.9452488422393799, 0.07834145426750183, 0.014689022675156593, 0.24481704831123352, 0.6512133479118347, 0.014689022675156593, 0.9577468037605286, 0.9209703803062439, 0.928627073764801, 0.1973787397146225, 0.007401702925562859, 0.3750196099281311, 0.35774898529052734, 0.06229766458272934, 0.15113477408885956, 0.005037826020270586, 0.01511347759515047, 0.16624826192855835, 0.6649930477142334, 0.9250121712684631, 0.9385138750076294, 0.9520381093025208, 0.016702422872185707, 0.016702422872185707, 0.016702422872185707, 0.9055078029632568, 0.6756501197814941, 0.18517817556858063, 0.07382103055715561, 0.05255056545138359, 0.01251203939318657, 0.9200974106788635, 0.054123375564813614, 0.9625561237335205, 0.9168217182159424, 0.8968298435211182, 0.20097164809703827, 0.06372271478176117, 0.25391051173210144, 0.45096078515052795, 0.03039083443582058, 0.8765357136726379, 0.0538555271923542, 0.0179518423974514, 0.1256628930568695, 0.0897592082619667, 0.7180736660957336, 0.06126262620091438, 0.15216846764087677, 0.18774031102657318, 0.5395063757896423, 0.059286411851644516, 0.9108651876449585, 0.9662773609161377, 0.018582256510853767, 0.7287517786026001, 0.03716014698147774, 0.03096679039299488, 0.12593160569667816, 0.07741697132587433, 0.023939630016684532, 0.018619712442159653, 0.007979877293109894, 0.9309856295585632, 0.021279672160744667, 0.9668058753013611, 0.004664485342800617, 0.004664485342800617, 0.009328970685601234, 0.9095746278762817, 0.07463176548480988, 0.030709927901625633, 0.09212978184223175, 0.05118321254849434, 0.08189313858747482, 0.7472749352455139, 0.9153109788894653, 0.01727001927793026, 0.06908007711172104, 0.9560965895652771, 0.03475068882107735, 0.9382686018943787, 0.34809380769729614, 0.35717451572418213, 0.10594159364700317, 0.038340769708156586, 0.14932720363140106, 0.8794938921928406, 0.8852959275245667, 0.05796247720718384, 0.8694371581077576, 0.9087501764297485, 0.026225559413433075, 0.026225559413433075, 0.9178945422172546, 0.026225559413433075, 0.9543131589889526, 0.6465150117874146, 0.013615465722978115, 0.041871216148138046, 0.2267780303955078, 0.07129818946123123, 0.572201132774353, 0.013623836450278759, 0.26975196599960327, 0.10081639140844345, 0.04359627887606621, 0.14113257825374603, 0.8467954397201538, 0.004334611818194389, 0.008669223636388779, 0.021673059090971947, 0.9362761974334717, 0.030342284590005875, 0.938018798828125, 0.8743674159049988, 0.012892425991594791, 0.012892425991594791, 0.8637925386428833, 0.025784851983189583, 0.0773545578122139, 0.8975356221199036, 0.3211694359779358, 0.41688859462738037, 0.12147103995084763, 0.06753789633512497, 0.07288262248039246, 0.043238572776317596, 0.9080100059509277, 0.0796760618686676, 0.8764366507530212, 0.01037535909563303, 0.9467514753341675, 0.005187679547816515, 0.015563038177788258, 0.023344557732343674, 0.9634720087051392, 0.0291961207985878, 0.04512961953878403, 0.004512961953878403, 0.8800275325775146, 0.027077771723270416, 0.04512961953878403, 0.010092278942465782, 0.807382345199585, 0.17156873643398285, 0.47666165232658386, 0.21421469748020172, 0.13835641741752625, 0.13790354132652283, 0.03260773420333862, 0.7901935577392578, 0.026635736227035522, 0.059190526604652405, 0.056230999529361725, 0.06806910783052444, 0.886965811252594, 0.014052926562726498, 0.5134002566337585, 0.01217920333147049, 0.4065980017185211, 0.05433798208832741, 0.09857061505317688, 0.5537675023078918, 0.19714123010635376, 0.033226050436496735, 0.11629117280244827, 0.8446105718612671, 0.29974690079689026, 0.01646961085498333, 0.5731424689292908, 0.052702754735946655, 0.05929059907793999, 0.8863107562065125, 0.004714419133961201, 0.007071628235280514, 0.07307349145412445, 0.028286512941122055, 0.8987980484962463, 0.013202128931879997, 0.026404257863759995, 0.03960638493299484, 0.8845426440238953, 0.026404257863759995, 0.9818683862686157, 0.06530698388814926, 0.0979604721069336, 0.03265349194407463, 0.7510302662849426, 0.0489802360534668, 0.005137517116963863, 0.9864033460617065, 0.005137517116963863, 0.005137517116963863, 0.9746490120887756, 0.9210668802261353, 0.9142236113548279, 0.007898259907960892, 0.009872824884951115, 0.05726238712668419, 0.009872824884951115, 0.00518249673768878, 0.05700746551156044, 0.7773745059967041, 0.15547490119934082, 0.020215479657053947, 0.8995888829231262, 0.07075417786836624, 0.010107739828526974, 0.07961039245128632, 0.004303264431655407, 0.83913654088974, 0.00645489664748311, 0.07100386172533035, 0.018242869526147842, 0.10945721715688705, 0.8574149012565613, 0.8836020231246948, 0.08594124019145966, 0.8063568472862244, 0.042532145977020264, 0.026308543980121613, 0.039024341851472855, 0.13195785880088806, 0.2035170942544937, 0.08862841129302979, 0.5527786612510681, 0.02363424189388752, 0.013735635206103325, 0.961494505405426, 0.013735635206103325, 0.013735635206103325, 0.06612655520439148, 0.9077371954917908, 0.006011504679918289, 0.024046018719673157, 0.7889944911003113, 0.05476751551032066, 0.006845939438790083, 0.08101028203964233, 0.0684593915939331, 0.963762640953064, 0.0235064048320055, 0.9154458045959473, 0.006062554661184549, 0.006062554661184549, 0.006062554661184549, 0.06062554940581322, 0.8541340827941895, 0.012378755025565624, 0.003094688756391406, 0.09284066408872604, 0.04023095220327377], \"Term\": [\"aa\", \"aa\", \"aa\", \"aa\", \"aa\", \"aaa\", \"aaa\", \"aaa\", \"aaa\", \"aaa\", \"abc\", \"activities\", \"activities\", \"activities\", \"activities\", \"adapter\", \"adapter\", \"add\", \"add\", \"add\", \"add\", \"add\", \"adequate\", \"adequate\", \"adequate\", \"adequate\", \"adequate\", \"age\", \"age\", \"age\", \"age\", \"age\", \"alexa\", \"alexa\", \"alexa\", \"alexa\", \"alexa\", \"alkaline\", \"alkaline\", \"alkaline\", \"alkaline\", \"alternative\", \"alternative\", \"alternative\", \"alternative\", \"amazon\", \"amazon\", \"amazon\", \"amazon\", \"amazon\", \"amazonbasics\", \"amazonbasics\", \"amazonbasics\", \"amazonbasics\", \"ample\", \"android\", \"android\", \"android\", \"android\", \"android\", \"app\", \"app\", \"app\", \"app\", \"app\", \"appropriate\", \"appropriate\", \"appropriate\", \"appropriate\", \"appropriate\", \"apps\", \"apps\", \"apps\", \"apps\", \"apps\", \"appstore\", \"appstore\", \"aunt\", \"awsome\", \"backlight\", \"backlight\", \"backlit\", \"backlit\", \"basics\", \"basics\", \"basics\", \"basics\", \"basics\", \"batch\", \"batch\", \"batch\", \"batteries\", \"batteries\", \"batteries\", \"batteries\", \"batteries\", \"battery\", \"battery\", \"battery\", \"battery\", \"battery\", \"bedroom\", \"best\", \"best\", \"best\", \"best\", \"best\", \"better\", \"better\", \"better\", \"better\", \"better\", \"bezel\", \"birthdays\", \"black\", \"black\", \"black\", \"black\", \"black\", \"bluetooth\", \"bluetooth\", \"bluetooth\", \"bluetooth\", \"bluetooth\", \"book\", \"book\", \"book\", \"book\", \"book\", \"books\", \"books\", \"books\", \"books\", \"books\", \"bought\", \"bought\", \"bought\", \"bought\", \"bought\", \"bout\", \"box\", \"box\", \"box\", \"box\", \"box\", \"brand\", \"brand\", \"brand\", \"brand\", \"brand\", \"brands\", \"brands\", \"brands\", \"brands\", \"brands\", \"bucks\", \"bucks\", \"bucks\", \"bucks\", \"bucks\", \"buffering\", \"bulk\", \"bulk\", \"bulk\", \"bulk\", \"bumper\", \"bumper\", \"bumper\", \"busy\", \"busy\", \"busy\", \"buttons\", \"buttons\", \"buttons\", \"buttons\", \"buttons\", \"buy\", \"buy\", \"buy\", \"buy\", \"buy\", \"candles\", \"candles\", \"candles\", \"candles\", \"card\", \"card\", \"card\", \"card\", \"card\", \"cards\", \"cards\", \"caught\", \"caught\", \"cents\", \"charge\", \"charge\", \"charge\", \"charge\", \"charge\", \"charm\", \"cheap\", \"cheap\", \"cheap\", \"cheap\", \"cheap\", \"child\", \"child\", \"child\", \"child\", \"child\", \"christmas\", \"christmas\", \"christmas\", \"christmas\", \"christmas\", \"clarity\", \"clarity\", \"clarity\", \"clarity\", \"clearer\", \"clicking\", \"clicking\", \"closes\", \"clutter\", \"command\", \"controller\", \"controller\", \"controller\", \"controller\", \"controllers\", \"controllers\", \"controllers\", \"costco\", \"costco\", \"costco\", \"costco\", \"couldn\", \"couldn\", \"couldn\", \"couldn\", \"couldn\", \"cover\", \"cover\", \"cover\", \"cover\", \"cover\", \"damn\", \"darn\", \"darn\", \"dates\", \"daughter\", \"daughter\", \"daughter\", \"daughter\", \"daughter\", \"deal\", \"deal\", \"deal\", \"deal\", \"deal\", \"deals\", \"deals\", \"deals\", \"delete\", \"delete\", \"delete\", \"described\", \"described\", \"described\", \"described\", \"device\", \"device\", \"device\", \"device\", \"device\", \"disabled\", \"discharge\", \"documents\", \"documents\", \"documents\", \"dot\", \"downfall\", \"downfall\", \"downfall\", \"download\", \"download\", \"download\", \"download\", \"download\", \"downloaded\", \"downloaded\", \"downloaded\", \"downloaded\", \"downloaded\", \"drawer\", \"duracell\", \"duracell\", \"duracell\", \"duracell\", \"duracell\", \"duracells\", \"duracells\", \"easier\", \"easier\", \"easier\", \"easier\", \"easier\", \"easy\", \"easy\", \"easy\", \"easy\", \"easy\", \"ebook\", \"ebook\", \"ebook\", \"echo\", \"echo\", \"echo\", \"echo\", \"echo\", \"educational\", \"educational\", \"educational\", \"elderly\", \"elementary\", \"energizer\", \"energizer\", \"energizer\", \"energizer\", \"energizer\", \"energizers\", \"engaged\", \"engaged\", \"engaged\", \"enlarge\", \"entry\", \"entry\", \"entry\", \"ereader\", \"ereader\", \"ereader\", \"ereader\", \"ereader\", \"excellent\", \"excellent\", \"excellent\", \"excellent\", \"excellent\", \"expanded\", \"expanded\", \"expensive\", \"expensive\", \"expensive\", \"expensive\", \"expensive\", \"explored\", \"eyes\", \"eyes\", \"eyes\", \"eyes\", \"eyes\", \"facing\", \"far\", \"far\", \"far\", \"far\", \"far\", \"fast\", \"fast\", \"fast\", \"fast\", \"fast\", \"fine\", \"fine\", \"fine\", \"fine\", \"fine\", \"fingertips\", \"fires\", \"fires\", \"fires\", \"fit\", \"fit\", \"fit\", \"fit\", \"fit\", \"flashlight\", \"flashlight\", \"flashlights\", \"flashlights\", \"flashlights\", \"flaws\", \"flush\", \"free\", \"free\", \"free\", \"free\", \"free\", \"friday\", \"friday\", \"friday\", \"friday\", \"friday\", \"friendly\", \"friendly\", \"friendly\", \"friendly\", \"friendly\", \"games\", \"games\", \"games\", \"games\", \"games\", \"gb\", \"gb\", \"gb\", \"gb\", \"gb\", \"generation\", \"generation\", \"generation\", \"gift\", \"gift\", \"gift\", \"gift\", \"gift\", \"god\", \"god\", \"god\", \"god\", \"good\", \"good\", \"good\", \"good\", \"good\", \"google\", \"google\", \"google\", \"google\", \"google\", \"got\", \"got\", \"got\", \"got\", \"got\", \"grandaughter\", \"grandaughter\", \"grandchildren\", \"grandchildren\", \"grandchildren\", \"granddaughter\", \"granddaughter\", \"granddaughter\", \"granddaughter\", \"granddaughter\", \"grandmother\", \"grandson\", \"grandson\", \"grandson\", \"grandson\", \"grandson\", \"great\", \"great\", \"great\", \"great\", \"great\", \"happy\", \"happy\", \"happy\", \"happy\", \"happy\", \"having\", \"having\", \"having\", \"having\", \"having\", \"hd\", \"hd\", \"hd\", \"hd\", \"hd\", \"highly\", \"highly\", \"highly\", \"highly\", \"highly\", \"hindsight\", \"homework\", \"homework\", \"hulu\", \"hulu\", \"hulu\", \"icons\", \"icons\", \"individually\", \"instagram\", \"internet\", \"internet\", \"internet\", \"internet\", \"internet\", \"jack\", \"kid\", \"kid\", \"kid\", \"kid\", \"kid\", \"kids\", \"kids\", \"kids\", \"kids\", \"kids\", \"kinda\", \"kinda\", \"kindle\", \"kindle\", \"kindle\", \"kindle\", \"kindle\", \"kindles\", \"kindles\", \"kindles\", \"kindles\", \"kindles\", \"know\", \"know\", \"know\", \"know\", \"know\", \"knowledgeable\", \"knowledgeable\", \"laptop\", \"laptop\", \"laptop\", \"laptop\", \"laptop\", \"lasted\", \"lasted\", \"lasted\", \"lasted\", \"lasted\", \"lasting\", \"lasting\", \"lasting\", \"lasting\", \"lasting\", \"law\", \"law\", \"law\", \"law\", \"leading\", \"leading\", \"leading\", \"leak\", \"leak\", \"leak\", \"leaked\", \"leaked\", \"leaked\", \"leaked\", \"leaking\", \"leaking\", \"learning\", \"learning\", \"learning\", \"learning\", \"learning\", \"leather\", \"leave\", \"leave\", \"leave\", \"leave\", \"life\", \"life\", \"life\", \"life\", \"life\", \"light\", \"light\", \"light\", \"light\", \"light\", \"lighter\", \"lighter\", \"lightest\", \"lighting\", \"lighting\", \"lighting\", \"lighting\", \"like\", \"like\", \"like\", \"like\", \"like\", \"little\", \"little\", \"little\", \"little\", \"little\", \"long\", \"long\", \"long\", \"long\", \"long\", \"longevity\", \"longevity\", \"lot\", \"lot\", \"lot\", \"lot\", \"lot\", \"loud\", \"loud\", \"loud\", \"loud\", \"love\", \"love\", \"love\", \"love\", \"love\", \"loves\", \"loves\", \"loves\", \"loves\", \"loves\", \"luv\", \"magazine\", \"magazine\", \"magazines\", \"magazines\", \"mah\", \"meetings\", \"meets\", \"meets\", \"memory\", \"memory\", \"memory\", \"memory\", \"memory\", \"merlot\", \"micro\", \"micro\", \"micro\", \"micro\", \"mines\", \"minimum\", \"minimum\", \"misleading\", \"mobile\", \"mobile\", \"mobile\", \"model\", \"model\", \"model\", \"model\", \"model\", \"modest\", \"mom\", \"mom\", \"mom\", \"mom\", \"money\", \"money\", \"money\", \"money\", \"money\", \"mother\", \"mother\", \"mother\", \"mother\", \"mother\", \"motion\", \"mouse\", \"mouse\", \"mouse\", \"mouse\", \"movies\", \"movies\", \"movies\", \"movies\", \"movies\", \"music\", \"music\", \"music\", \"music\", \"music\", \"nabi\", \"nabi\", \"nabi\", \"need\", \"need\", \"need\", \"need\", \"need\", \"needs\", \"needs\", \"needs\", \"needs\", \"needs\", \"neice\", \"new\", \"new\", \"new\", \"new\", \"new\", \"newer\", \"newer\", \"newer\", \"newer\", \"nice\", \"nice\", \"nice\", \"nice\", \"nice\", \"nook\", \"nook\", \"nook\", \"nook\", \"nook\", \"oasis\", \"oasis\", \"oasis\", \"occasionally\", \"occasionally\", \"old\", \"old\", \"old\", \"old\", \"old\", \"older\", \"older\", \"older\", \"older\", \"older\", \"ones\", \"ones\", \"ones\", \"ones\", \"ones\", \"original\", \"original\", \"original\", \"original\", \"original\", \"os\", \"os\", \"os\", \"os\", \"owned\", \"owned\", \"owned\", \"owned\", \"owning\", \"pack\", \"pack\", \"pack\", \"pack\", \"pack\", \"packaged\", \"packaged\", \"packaged\", \"packaged\", \"packaged\", \"packaging\", \"packaging\", \"packaging\", \"packaging\", \"packaging\", \"page\", \"page\", \"page\", \"page\", \"page\", \"pages\", \"pages\", \"pages\", \"pages\", \"pages\", \"pandora\", \"pandora\", \"paper\", \"paper\", \"paper\", \"paperwhite\", \"paperwhite\", \"paperwhite\", \"parental\", \"parental\", \"parental\", \"parental\", \"parental\", \"parts\", \"pdf\", \"pen\", \"pen\", \"perfect\", \"perfect\", \"perfect\", \"perfect\", \"perfect\", \"picture\", \"picture\", \"picture\", \"picture\", \"picture\", \"play\", \"play\", \"play\", \"play\", \"play\", \"points\", \"points\", \"portability\", \"portability\", \"portability\", \"portable\", \"portable\", \"portable\", \"portable\", \"portable\", \"prefect\", \"previous\", \"previous\", \"previous\", \"previous\", \"previous\", \"price\", \"price\", \"price\", \"price\", \"price\", \"processor\", \"processor\", \"processor\", \"processor\", \"processor\", \"product\", \"product\", \"product\", \"product\", \"product\", \"purchase\", \"purchase\", \"purchase\", \"purchase\", \"purchase\", \"purchased\", \"purchased\", \"purchased\", \"purchased\", \"purchased\", \"quality\", \"quality\", \"quality\", \"quality\", \"quality\", \"quantity\", \"quantity\", \"rayovac\", \"rayovac\", \"read\", \"read\", \"read\", \"read\", \"read\", \"reader\", \"reader\", \"reader\", \"reader\", \"reader\", \"readers\", \"readers\", \"readers\", \"readers\", \"reading\", \"reading\", \"reading\", \"reading\", \"reading\", \"recommend\", \"recommend\", \"recommend\", \"recommend\", \"recommend\", \"recommended\", \"recommended\", \"recommended\", \"recommended\", \"recommended\", \"remote\", \"remote\", \"remote\", \"remote\", \"remote\", \"remotes\", \"remotes\", \"remotes\", \"remotes\", \"remotes\", \"resist\", \"resolution\", \"resolution\", \"resolution\", \"resolution\", \"resolution\", \"responds\", \"rocks\", \"savy\", \"screen\", \"screen\", \"screen\", \"screen\", \"screen\", \"sd\", \"sd\", \"sd\", \"sd\", \"sd\", \"searches\", \"seat\", \"selection\", \"selection\", \"selection\", \"selection\", \"senior\", \"set\", \"set\", \"set\", \"set\", \"set\", \"seven\", \"seven\", \"silk\", \"simpler\", \"sits\", \"size\", \"size\", \"size\", \"size\", \"size\", \"slippery\", \"slot\", \"slot\", \"slot\", \"slot\", \"slot\", \"small\", \"small\", \"small\", \"small\", \"small\", \"smoothly\", \"social\", \"social\", \"son\", \"son\", \"son\", \"son\", \"son\", \"sound\", \"sound\", \"sound\", \"sound\", \"sound\", \"span\", \"speaker\", \"speaker\", \"speaker\", \"speaker\", \"speaker\", \"special\", \"special\", \"special\", \"special\", \"special\", \"starter\", \"starter\", \"starter\", \"stepkids\", \"stereo\", \"stereo\", \"store\", \"store\", \"store\", \"store\", \"store\", \"streams\", \"strongly\", \"suggested\", \"suggested\", \"suited\", \"sunlight\", \"sunlight\", \"sunlight\", \"sunlight\", \"supply\", \"tablet\", \"tablet\", \"tablet\", \"tablet\", \"tablet\", \"tablets\", \"tablets\", \"tablets\", \"tablets\", \"tablets\", \"tabs\", \"tabs\", \"tap\", \"tap\", \"tap\", \"tap\", \"tap\", \"teen\", \"tells\", \"text\", \"text\", \"text\", \"text\", \"text\", \"thousand\", \"time\", \"time\", \"time\", \"time\", \"time\", \"tools\", \"tools\", \"town\", \"town\", \"toys\", \"toys\", \"toys\", \"toys\", \"toys\", \"tube\", \"tube\", \"upgrade\", \"upgrade\", \"upgrade\", \"upgrade\", \"upgrade\", \"upgraded\", \"upgraded\", \"upgraded\", \"use\", \"use\", \"use\", \"use\", \"use\", \"user\", \"user\", \"user\", \"user\", \"user\", \"valuable\", \"value\", \"value\", \"value\", \"value\", \"value\", \"ve\", \"ve\", \"ve\", \"ve\", \"ve\", \"vehicle\", \"version\", \"version\", \"version\", \"version\", \"version\", \"videos\", \"videos\", \"videos\", \"videos\", \"videos\", \"visit\", \"voice\", \"voice\", \"voice\", \"voice\", \"voice\", \"volts\", \"volume\", \"volume\", \"volume\", \"volume\", \"volume\", \"voyage\", \"voyage\", \"voyage\", \"voyage\", \"voyager\", \"vudu\", \"watch\", \"watch\", \"watch\", \"watch\", \"watch\", \"weight\", \"weight\", \"weight\", \"weight\", \"white\", \"white\", \"white\", \"white\", \"wife\", \"wife\", \"wife\", \"wife\", \"wife\", \"win\", \"win\", \"win\", \"wonder\", \"work\", \"work\", \"work\", \"work\", \"work\", \"works\", \"works\", \"works\", \"works\", \"works\", \"worst\", \"worst\", \"worst\", \"worst\", \"xbox\", \"xbox\", \"xbox\", \"xbox\", \"year\", \"year\", \"year\", \"year\", \"year\", \"yo\", \"yo\", \"youtube\", \"youtube\", \"youtube\", \"youtube\", \"youtube\", \"yr\", \"yr\", \"yr\", \"yr\", \"yr\"]}, \"R\": 30, \"lambda.step\": 0.01, \"plot.opts\": {\"xlab\": \"PC1\", \"ylab\": \"PC2\"}, \"topic.order\": [2, 4, 3, 1, 5]};\n",
       "\n",
       "function LDAvis_load_lib(url, callback){\n",
       "  var s = document.createElement('script');\n",
       "  s.src = url;\n",
       "  s.async = true;\n",
       "  s.onreadystatechange = s.onload = callback;\n",
       "  s.onerror = function(){console.warn(\"failed to load library \" + url);};\n",
       "  document.getElementsByTagName(\"head\")[0].appendChild(s);\n",
       "}\n",
       "\n",
       "if(typeof(LDAvis) !== \"undefined\"){\n",
       "   // already loaded: just create the visualization\n",
       "   !function(LDAvis){\n",
       "       new LDAvis(\"#\" + \"ldavis_el214020722900286642264439711\", ldavis_el214020722900286642264439711_data);\n",
       "   }(LDAvis);\n",
       "}else if(typeof define === \"function\" && define.amd){\n",
       "   // require.js is available: use it to load d3/LDAvis\n",
       "   require.config({paths: {d3: \"https://cdnjs.cloudflare.com/ajax/libs/d3/3.5.5/d3.min\"}});\n",
       "   require([\"d3\"], function(d3){\n",
       "      window.d3 = d3;\n",
       "      LDAvis_load_lib(\"https://cdn.rawgit.com/bmabey/pyLDAvis/files/ldavis.v1.0.0.js\", function(){\n",
       "        new LDAvis(\"#\" + \"ldavis_el214020722900286642264439711\", ldavis_el214020722900286642264439711_data);\n",
       "      });\n",
       "    });\n",
       "}else{\n",
       "    // require.js not available: dynamically load d3 & LDAvis\n",
       "    LDAvis_load_lib(\"https://cdnjs.cloudflare.com/ajax/libs/d3/3.5.5/d3.min.js\", function(){\n",
       "         LDAvis_load_lib(\"https://cdn.rawgit.com/bmabey/pyLDAvis/files/ldavis.v1.0.0.js\", function(){\n",
       "                 new LDAvis(\"#\" + \"ldavis_el214020722900286642264439711\", ldavis_el214020722900286642264439711_data);\n",
       "            })\n",
       "         });\n",
       "}\n",
       "</script>"
      ],
      "text/plain": [
       "PreparedData(topic_coordinates=              x         y  topics  cluster       Freq\n",
       "topic                                                \n",
       "1      0.144404  0.053745       1        1  28.281399\n",
       "3     -0.206904  0.011846       2        1  28.132196\n",
       "2      0.038206 -0.079337       3        1  17.412941\n",
       "0      0.024377 -0.093127       4        1  16.250437\n",
       "4     -0.000082  0.106873       5        1   9.923024, topic_info=     Category         Freq       Term        Total  loglift  logprob\n",
       "18    Default  7569.000000  batteries  7569.000000  30.0000  30.0000\n",
       "2076  Default  3012.000000     kindle  3012.000000  29.0000  29.0000\n",
       "21    Default  9312.000000      great  9312.000000  28.0000  28.0000\n",
       "2433  Default  6830.000000     tablet  6830.000000  27.0000  27.0000\n",
       "1857  Default  2147.000000      loves  2147.000000  26.0000  26.0000\n",
       "17    Default  5208.000000      price  5208.000000  25.0000  25.0000\n",
       "165   Default  2133.000000    product  2133.000000  24.0000  24.0000\n",
       "20    Default  1272.000000      brand  1272.000000  23.0000  23.0000\n",
       "652   Default  1694.000000      games  1694.000000  22.0000  22.0000\n",
       "23    Default  2424.000000       long  2424.000000  21.0000  21.0000\n",
       "34    Default  5968.000000       good  5968.000000  20.0000  20.0000\n",
       "9     Default  2280.000000       work  2280.000000  19.0000  19.0000\n",
       "1548  Default  1790.000000       apps  1790.000000  18.0000  18.0000\n",
       "2087  Default  1506.000000      books  1506.000000  17.0000  17.0000\n",
       "409   Default  1121.000000       play  1121.000000  16.0000  16.0000\n",
       "192   Default  2450.000000       kids  2450.000000  15.0000  15.0000\n",
       "28    Default  3202.000000     bought  3202.000000  14.0000  14.0000\n",
       "96    Default  1523.000000      works  1523.000000  13.0000  13.0000\n",
       "105   Default  1752.000000       year  1752.000000  12.0000  12.0000\n",
       "90    Default  3485.000000       love  3485.000000  11.0000  11.0000\n",
       "2     Default  2118.000000    battery  2118.000000  10.0000  10.0000\n",
       "1679  Default  1621.000000     screen  1621.000000   9.0000   9.0000\n",
       "521   Default  2101.000000        old  2101.000000   8.0000   8.0000\n",
       "19    Default  1455.000000     better  1455.000000   7.0000   7.0000\n",
       "74    Default   837.000000     brands   837.000000   6.0000   6.0000\n",
       "755   Default  2912.000000       easy  2912.000000   5.0000   5.0000\n",
       "786   Default  1186.000000       read  1186.000000   4.0000   4.0000\n",
       "7     Default  1374.000000    quality  1374.000000   3.0000   3.0000\n",
       "166   Default  1125.000000  recommend  1125.000000   2.0000   2.0000\n",
       "387   Default  1067.000000      value  1067.000000   1.0000   1.0000\n",
       "...       ...          ...        ...          ...      ...      ...\n",
       "19     Topic5   417.551605     better  1455.691528   1.0615  -4.2916\n",
       "115    Topic5   159.712006       know   434.037292   1.3106  -5.2527\n",
       "67     Topic5   142.176346       ones   383.445343   1.3182  -5.3690\n",
       "2087   Topic5   357.219666      books  1506.062500   0.8714  -4.4477\n",
       "28     Topic5   552.176025     bought  3202.217529   0.5526  -4.0122\n",
       "31     Topic5   219.893631  christmas   895.213745   0.9064  -4.9329\n",
       "11     Topic5   144.161575  expensive   476.932861   1.1139  -5.3551\n",
       "291    Topic5    77.701126     couldn   188.927628   1.4218  -5.9732\n",
       "1823   Topic5   144.043304   grandson   506.055450   1.0538  -5.3559\n",
       "466    Topic5   221.402267     little  1003.421143   0.7991  -4.9261\n",
       "24     Topic5   490.403412     amazon  3811.629150   0.2597  -4.1308\n",
       "217    Topic5   146.589081     charge   559.375732   0.9711  -5.3384\n",
       "235    Topic5   204.860504     device  1041.421875   0.6843  -5.0037\n",
       "946    Topic5   206.721588    reading  1223.958618   0.5318  -4.9947\n",
       "254    Topic5   158.821411      money   751.593079   0.7559  -5.2583\n",
       "101    Topic5   207.713150        got  1252.557129   0.5135  -4.9899\n",
       "17     Topic5   433.952423      price  5208.720215  -0.1748  -4.2531\n",
       "2433   Topic5   486.852966     tablet  6830.467773  -0.3309  -4.1381\n",
       "106    Topic5   170.771118       need   943.231323   0.6013  -5.1857\n",
       "29     Topic5   231.602905        buy  2267.812012   0.0288  -4.8810\n",
       "1548   Topic5   205.304733       apps  1790.333862   0.1447  -5.0016\n",
       "652    Topic5   193.793381      games  1694.672485   0.1419  -5.0593\n",
       "179    Topic5   172.306519       nice  1232.970947   0.3424  -5.1768\n",
       "34     Topic5   254.019180       good  5968.831543  -0.8466  -4.7886\n",
       "21     Topic5   266.367584      great  9312.791992  -1.2440  -4.7412\n",
       "23     Topic5   194.643494       long  2424.409424  -0.2119  -5.0549\n",
       "885    Topic5   160.697937       gift  1094.804199   0.3915  -5.2465\n",
       "12     Topic5   174.792953       like  2459.968750  -0.3340  -5.1624\n",
       "18     Topic5   166.768417  batteries  7569.158691  -1.5049  -5.2094\n",
       "173    Topic5   150.017548       time  2058.103760  -0.3085  -5.3153\n",
       "\n",
       "[428 rows x 6 columns], token_table=      Topic      Freq        Term\n",
       "term                             \n",
       "56        1  0.002092          aa\n",
       "56        2  0.972735          aa\n",
       "56        3  0.006276          aa\n",
       "56        4  0.002092          aa\n",
       "56        5  0.014643          aa\n",
       "57        1  0.002784         aaa\n",
       "57        2  0.971721         aaa\n",
       "57        3  0.005569         aaa\n",
       "57        4  0.002784         aaa\n",
       "57        5  0.019490         aaa\n",
       "3225      1  0.935393         abc\n",
       "2044      1  0.930442  activities\n",
       "2044      2  0.021146  activities\n",
       "2044      3  0.021146  activities\n",
       "2044      4  0.021146  activities\n",
       "2785      3  0.945164     adapter\n",
       "2785      4  0.036352     adapter\n",
       "1480      1  0.105039         add\n",
       "1480      2  0.019098         add\n",
       "1480      3  0.052519         add\n",
       "1480      4  0.315116         add\n",
       "1480      5  0.510869         add\n",
       "665       1  0.065517    adequate\n",
       "665       2  0.032758    adequate\n",
       "665       3  0.032758    adequate\n",
       "665       4  0.098275    adequate\n",
       "665       5  0.786202    adequate\n",
       "1778      1  0.897108         age\n",
       "1778      2  0.035181         age\n",
       "1778      3  0.004398         age\n",
       "...     ...       ...         ...\n",
       "96        1  0.131958       works\n",
       "96        2  0.203517       works\n",
       "96        3  0.088628       works\n",
       "96        4  0.552779       works\n",
       "96        5  0.023634       works\n",
       "1389      1  0.013736       worst\n",
       "1389      2  0.961495       worst\n",
       "1389      4  0.013736       worst\n",
       "1389      5  0.013736       worst\n",
       "152       1  0.066127        xbox\n",
       "152       2  0.907737        xbox\n",
       "152       3  0.006012        xbox\n",
       "152       5  0.024046        xbox\n",
       "105       1  0.788994        year\n",
       "105       2  0.054768        year\n",
       "105       3  0.006846        year\n",
       "105       4  0.081010        year\n",
       "105       5  0.068459        year\n",
       "1806      1  0.963763          yo\n",
       "1806      2  0.023506          yo\n",
       "2224      1  0.915446     youtube\n",
       "2224      2  0.006063     youtube\n",
       "2224      3  0.006063     youtube\n",
       "2224      4  0.006063     youtube\n",
       "2224      5  0.060626     youtube\n",
       "1804      1  0.854134          yr\n",
       "1804      2  0.012379          yr\n",
       "1804      3  0.003095          yr\n",
       "1804      4  0.092841          yr\n",
       "1804      5  0.040231          yr\n",
       "\n",
       "[1153 rows x 3 columns], R=30, lambda_step=0.01, plot_opts={'xlab': 'PC1', 'ylab': 'PC2'}, topic_order=[2, 4, 3, 1, 5])"
      ]
     },
     "execution_count": 17,
     "metadata": {},
     "output_type": "execute_result"
    }
   ],
   "source": [
    "pyLDAvis.gensim.prepare(lda, corpus, id2word)"
   ]
  },
  {
   "cell_type": "markdown",
   "metadata": {},
   "source": [
    "## Stretch Goals\n",
    "\n",
    "* Incorporate Named Entity Recognition in your analysis\n",
    "* Incorporate some custom pre-processing from our previous lessons (like spacy lemmatization)\n",
    "* Analyze a dataset of interest to you with topic modeling"
   ]
  },
  {
   "cell_type": "code",
   "execution_count": null,
   "metadata": {},
   "outputs": [],
   "source": []
  }
 ],
 "metadata": {
  "kernelspec": {
   "display_name": "U4-S1-NLP (Python3)",
   "language": "python",
   "name": "u4-s1-nlp"
  },
  "language_info": {
   "codemirror_mode": {
    "name": "ipython",
    "version": 3
   },
   "file_extension": ".py",
   "mimetype": "text/x-python",
   "name": "python",
   "nbconvert_exporter": "python",
   "pygments_lexer": "ipython3",
   "version": "3.7.0"
  }
 },
 "nbformat": 4,
 "nbformat_minor": 4
}
